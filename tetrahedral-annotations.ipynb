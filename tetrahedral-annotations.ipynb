{
 "cells": [
  {
   "cell_type": "code",
   "execution_count": null,
   "id": "8e234ec6",
   "metadata": {
    "colab": {
     "base_uri": "https://localhost:8080/"
    },
    "executionInfo": {
     "elapsed": 19379,
     "status": "ok",
     "timestamp": 1755197699313,
     "user": {
      "displayName": "Lillian Wang",
      "userId": "01820132309759340903"
     },
     "user_tz": 240
    },
    "id": "8e234ec6",
    "outputId": "5b2a40f4-84f2-44f7-ada3-e21c2f880fd1"
   },
   "outputs": [],
   "source": [
    "import os\n",
    "import pandas as pd\n",
    "import numpy as np\n",
    "from matplotlib import pyplot as plt\n",
    "from matplotlib import patches as mpatches\n",
    "import librosa\n",
    "from scipy import signal as scipysig\n",
    "from scipy.signal import find_peaks \n",
    "from scipy.stats import gaussian_kde\n",
    "from natsort import natsorted"
   ]
  },
  {
   "cell_type": "code",
   "execution_count": null,
   "id": "0be46262",
   "metadata": {},
   "outputs": [],
   "source": [
    "# Setting parameters\n",
    "dir = '/Users/lillianwang/Documents/bird-counts-25/tetrahedral-data/'\n",
    "birdnet_dir = dir+'birdnet/'\n",
    "annotations_dir = dir+'annotations/'"
   ]
  },
  {
   "cell_type": "code",
   "execution_count": null,
   "id": "623f3830",
   "metadata": {},
   "outputs": [],
   "source": [
    "def load_txts(dir):\n",
    "    files = natsorted([f for f in os.listdir(dir) if f.endswith('.txt')])\n",
    "    dfs = []\n",
    "    for i, file in enumerate(files):\n",
    "        df = pd.read_csv(dir+file, encoding='latin1', delimiter='\\t')\n",
    "        df['Recording'] = i+1\n",
    "        dfs.append(df)\n",
    "    return dfs\n",
    "\n",
    "def load_csvs(dir):\n",
    "    files = natsorted([f for f in os.listdir(dir) if f.endswith('.csv')])\n",
    "    dfs = []\n",
    "    for i, file in enumerate(files):\n",
    "        df = pd.read_csv(dir+file, encoding='latin1')\n",
    "        df['Recording'] = i+1\n",
    "        dfs.append(df)\n",
    "    return dfs"
   ]
  },
  {
   "cell_type": "code",
   "execution_count": null,
   "id": "2E7ljm71XuSb",
   "metadata": {
    "executionInfo": {
     "elapsed": 2398,
     "status": "ok",
     "timestamp": 1755197701719,
     "user": {
      "displayName": "Lillian Wang",
      "userId": "01820132309759340903"
     },
     "user_tz": 240
    },
    "id": "2E7ljm71XuSb"
   },
   "outputs": [],
   "source": [
    "# Read data\n",
    "annotations_dfs = load_txts(annotations_dir)\n",
    "birdnet_dfs = load_csvs(birdnet_dir)\n",
    "\n",
    "# Map species codes\n",
    "key = pd.read_excel(annotations_dir+'CTC_Metadata.xlsx')\n",
    "code_map = dict(zip(key['Code'], key['Common Name']))\n",
    "\n",
    "for df in annotations_dfs:\n",
    "    df['Species'] = df['Species'].map(code_map)\n",
    "\n",
    "combined_birdnet = pd.concat(birdnet_dfs)\n",
    "combined_annotations = pd.concat(annotations_dfs)"
   ]
  },
  {
   "cell_type": "markdown",
   "id": "LEI0ssQv4uFN",
   "metadata": {
    "id": "LEI0ssQv4uFN"
   },
   "source": [
    "## Helper functions"
   ]
  },
  {
   "cell_type": "code",
   "execution_count": null,
   "id": "30af259b",
   "metadata": {},
   "outputs": [],
   "source": [
    "# Setting parameters\n",
    "n_fft = 1024\n",
    "nf = 220\n",
    "highpass_filter = 500"
   ]
  },
  {
   "cell_type": "code",
   "execution_count": null,
   "id": "262a2629",
   "metadata": {
    "executionInfo": {
     "elapsed": 6,
     "status": "ok",
     "timestamp": 1755197701721,
     "user": {
      "displayName": "Lillian Wang",
      "userId": "01820132309759340903"
     },
     "user_tz": 240
    },
    "id": "262a2629"
   },
   "outputs": [],
   "source": [
    "# ---- filtering function ----\n",
    "def butter_highpass_filter(data, cut, fs, order=5):\n",
    "    cutoff = 2 * cut / fs\n",
    "    b, a = scipysig.butter(order, cutoff, btype='high', analog=False)\n",
    "    y = scipysig.filtfilt(b, a, data)\n",
    "    return y\n",
    "\n",
    "# ---- function to convert linear units to dB ----\n",
    "def logTransform(spec, scale=10**(-5)):\n",
    "    return 20 * np.log10(spec + scale * np.ones(spec.shape))\n",
    "\n",
    "# ---- function to load 4-channel audio and convert to B-format ----\n",
    "def loadData(uploaded_file):\n",
    "    # ---- read in file ----\n",
    "    (s, framerate) = librosa.core.load(uploaded_file, sr=None, mono=False)\n",
    "\n",
    "    # ---- get part of signal ----\n",
    "    s = s/np.max(s)**2\n",
    "\n",
    "    # ---- filter signal ----\n",
    "    s = butter_highpass_filter(s, highpass_filter, framerate)\n",
    "    s = s[:4, :]\n",
    "    # ---- convert to b-format through matrix multiplication ----\n",
    "    b_transform = np.asarray([[1, 1, 1, 1], [1, 1, -1, -1], [1, -1, 1, -1], [1, -1, -1, 1]])\n",
    "    s_B = b_transform @ s\n",
    "\n",
    "    return s, s_B, framerate"
   ]
  },
  {
   "cell_type": "code",
   "execution_count": null,
   "id": "NWlFV1oRr8by",
   "metadata": {
    "executionInfo": {
     "elapsed": 27433,
     "status": "ok",
     "timestamp": 1755197729150,
     "user": {
      "displayName": "Lillian Wang",
      "userId": "01820132309759340903"
     },
     "user_tz": 240
    },
    "id": "NWlFV1oRr8by"
   },
   "outputs": [],
   "source": [
    "# Load in file\n",
    "recording = 1\n",
    "target_species = 'Red-eyed Vireo'\n",
    "duration = 600\n",
    "bin_num = 60\n",
    "file = os.path.join(dir+f'recordings/{recording}.WAV')\n",
    "s, s_B, framerate = loadData(file)"
   ]
  },
  {
   "cell_type": "code",
   "execution_count": null,
   "id": "2d5fbdfd",
   "metadata": {
    "executionInfo": {
     "elapsed": 8,
     "status": "ok",
     "timestamp": 1755197729162,
     "user": {
      "displayName": "Lillian Wang",
      "userId": "01820132309759340903"
     },
     "user_tz": 240
    },
    "id": "2d5fbdfd"
   },
   "outputs": [],
   "source": [
    "# Make b-format spectrogram\n",
    "def spectrogram(file, s, s_B, framerate, start, end):\n",
    "  end = int(np.ceil(end * framerate))\n",
    "  if start is not None:\n",
    "      start = int(np.trunc(start * framerate))\n",
    "      s = s[:, start:end]\n",
    "\n",
    "  b_transform = np.asarray([[1, 1, 1, 1], [1, 1, -1, -1], [1, -1, 1, -1], [1, -1, -1, 1]])\n",
    "  s_B = b_transform @ s\n",
    "\n",
    "  specs = []\n",
    "  for num in np.arange(4):\n",
    "      freqs, inds, spec = scipysig.stft(s_B[num,:], fs=framerate, nperseg=n_fft)\n",
    "      nf_full = len(freqs)\n",
    "      freqs = freqs[0:nf]\n",
    "      specs.append(spec[0:nf, :].T)\n",
    "\n",
    "  # directly get the three components\n",
    "  w = specs[0] # p(f,t)\n",
    "  x = specs[1] # v(f,t) x\n",
    "  y = specs[2] # v(f,t)\n",
    "  # azimuth values for all pixels\n",
    "  azimuth = np.arctan2(np.real(w.conj() * y), np.real(w.conj() * x)) # eq 10\n",
    "\n",
    "  # weight the azimuth values by the intensity\n",
    "  weights = np.abs(w)**2\n",
    "\n",
    "  # get grids for time and frequency\n",
    "  f_grid, time_grid = np.meshgrid(freqs, inds)\n",
    "\n",
    "  # need to set these parameters for histogram\n",
    "  duration = len(s_B[0])/framerate\n",
    "  time_step = 0.05\n",
    "  num_time = int(duration * 1/time_step)\n",
    "  num_azim = 60\n",
    "\n",
    "  # histogram\n",
    "  hist, azim_edges, time_edges = np.histogram2d(x = azimuth.ravel(), y = time_grid.ravel(),\n",
    "                                                bins=[num_azim, num_time],\n",
    "                                                weights = weights.ravel())\n",
    "\n",
    "  log_hist = np.log(hist + 0.01 * np.ones(hist.shape))\n",
    "\n",
    "  return azimuth, weights, freqs, inds, hist, azim_edges, time_edges, log_hist"
   ]
  },
  {
   "cell_type": "code",
   "execution_count": null,
   "id": "gBcrhacCaIL2",
   "metadata": {
    "executionInfo": {
     "elapsed": 7,
     "status": "ok",
     "timestamp": 1755197729164,
     "user": {
      "displayName": "Lillian Wang",
      "userId": "01820132309759340903"
     },
     "user_tz": 240
    },
    "id": "gBcrhacCaIL2"
   },
   "outputs": [],
   "source": [
    "# Find timestamps of audio segments based on annotations\n",
    "def annotations_timestamps(recording=recording, target_species=None, start_time=0, end_time=duration):\n",
    "    df = annotations_dfs[recording-1]\n",
    "    \n",
    "    if target_species is None:\n",
    "      annotations_rows = df\n",
    "    else:\n",
    "      annotations_rows = df[df['Species'] == target_species]\n",
    "\n",
    "    selections = []\n",
    "    timestamps = []\n",
    "    species = []\n",
    "    low_freqs = []\n",
    "    high_freqs = []\n",
    "\n",
    "    for i in range(len(annotations_rows)):\n",
    "      if not isinstance(annotations_rows.iloc[i]['Species'], str):\n",
    "        continue\n",
    "\n",
    "      start = annotations_rows.iloc[i]['Begin Time (s)']\n",
    "      end = annotations_rows.iloc[i]['End Time (s)']\n",
    "      \n",
    "      if start >= start_time and end <= end_time:\n",
    "        selections.append(annotations_rows.iloc[i]['Selection'])\n",
    "        timestamps.append((start, end))\n",
    "        low_freqs.append(annotations_rows.iloc[i]['Low Freq (Hz)'])\n",
    "        high_freqs.append(annotations_rows.iloc[i]['High Freq (Hz)'])\n",
    "        species.append(annotations_rows.iloc[i]['Species'])\n",
    "      else:\n",
    "        continue\n",
    "\n",
    "    return selections, timestamps, species, low_freqs, high_freqs"
   ]
  },
  {
   "cell_type": "code",
   "execution_count": null,
   "id": "1zz2AzCU46qg",
   "metadata": {
    "executionInfo": {
     "elapsed": 5,
     "status": "ok",
     "timestamp": 1755197729165,
     "user": {
      "displayName": "Lillian Wang",
      "userId": "01820132309759340903"
     },
     "user_tz": 240
    },
    "id": "1zz2AzCU46qg"
   },
   "outputs": [],
   "source": [
    "# Absolute peak of histogram\n",
    "def absolute_peaks(azimuth, weights):\n",
    "  counts, bin_edges = np.histogram(azimuth, weights=weights, bins=bin_num)\n",
    "  peaks, _ = find_peaks(counts, height=np.max(counts))\n",
    "  bin_centers = 0.5*(bin_edges[1:]+bin_edges[:-1])\n",
    "  return counts, bin_centers[peaks]\n",
    "\n",
    "# Histogram peaks using percent of peak method\n",
    "def histogram_peaks(azimuth, weights):\n",
    "  counts, bin_edges = np.histogram(azimuth, weights=weights, bins=bin_num)\n",
    "  peaks, _ = find_peaks(counts, prominence=0.5*np.max(counts))\n",
    "  bin_centers = 0.5*(bin_edges[1:]+bin_edges[:-1])\n",
    "  return counts, bin_centers[peaks]\n",
    "\n",
    "# Histogram peaks using kernel density estimation method\n",
    "def kde_peaks(azimuth, weights):\n",
    "  kde = gaussian_kde(azimuth, weights=weights)\n",
    "  x_kde = np.linspace(np.min(azimuth), np.max(azimuth))\n",
    "  y_kde = kde(x_kde)\n",
    "  kde_peaks_indices, _ = find_peaks(y_kde, prominence=0.01)\n",
    "  kde_peaks = x_kde[kde_peaks_indices]\n",
    "  return kde_peaks, x_kde, y_kde"
   ]
  },
  {
   "cell_type": "code",
   "execution_count": null,
   "id": "a3q-Zms8QaOD",
   "metadata": {
    "executionInfo": {
     "elapsed": 5,
     "status": "ok",
     "timestamp": 1755197729167,
     "user": {
      "displayName": "Lillian Wang",
      "userId": "01820132309759340903"
     },
     "user_tz": 240
    },
    "id": "a3q-Zms8QaOD"
   },
   "outputs": [],
   "source": [
    "# Filter out azimuths outside range [low_freq, high_freq]\n",
    "def azimuth_filter(azimuth, weights, freqs, low_freq, high_freq):\n",
    "    freq_range = (freqs >= low_freq) & (freqs <= high_freq)\n",
    "\n",
    "    filtered_azimuths = azimuth[:, freq_range]\n",
    "    filtered_weights = weights[:, freq_range]\n",
    "    filtered_freqs = freqs[freq_range]\n",
    "\n",
    "    return filtered_azimuths, filtered_weights, filtered_freqs"
   ]
  },
  {
   "cell_type": "markdown",
   "id": "9vctJcdpZwax",
   "metadata": {
    "id": "9vctJcdpZwax"
   },
   "source": [
    "## Azimuth"
   ]
  },
  {
   "cell_type": "code",
   "execution_count": null,
   "id": "1y_tNBNVZfrO",
   "metadata": {
    "colab": {
     "base_uri": "https://localhost:8080/",
     "height": 407
    },
    "executionInfo": {
     "elapsed": 2760,
     "status": "ok",
     "timestamp": 1755197731929,
     "user": {
      "displayName": "Lillian Wang",
      "userId": "01820132309759340903"
     },
     "user_tz": 240
    },
    "id": "1y_tNBNVZfrO",
    "outputId": "9cf3651d-2bf5-4b0e-971a-9067d9abfd0f"
   },
   "outputs": [],
   "source": [
    "# Annotations on azigram\n",
    "fig, ax = plt.subplots(1, 1, figsize=(14, 4))\n",
    "\n",
    "start = 0\n",
    "end = 30\n",
    "\n",
    "azimuth, weights, freqs, inds, *_ = spectrogram(file, s, s_B, framerate, start, end)\n",
    "ax.pcolormesh(inds, freqs, azimuth.T, cmap='turbo')\n",
    "\n",
    "selections, timestamps, species, low_freqs, high_freqs = annotations_timestamps(recording, start_time=start, end_time=end)\n",
    "\n",
    "for i in range(len(timestamps)):\n",
    "  x = timestamps[i][0] - start\n",
    "  y = low_freqs[i]\n",
    "  width = timestamps[i][1] - timestamps[i][0]\n",
    "  height = high_freqs[i] - low_freqs[i]\n",
    "  rect = mpatches.Rectangle((x, y), width, height, linewidth=1, edgecolor='r', facecolor='none')\n",
    "  ax.add_patch(rect)\n",
    "\n",
    "ax.set_xlabel('Time (sec)')\n",
    "ax.set_ylabel('Frequency (Hz)')\n",
    "ax.set_title(f'Azigram ({start}-{end}s)')\n",
    "\n",
    "fig.tight_layout()\n",
    "fig.savefig('azigram-with-annotations.png', dpi=200)"
   ]
  },
  {
   "cell_type": "code",
   "execution_count": null,
   "id": "izXaLI54i_0X",
   "metadata": {
    "colab": {
     "base_uri": "https://localhost:8080/",
     "height": 607
    },
    "executionInfo": {
     "elapsed": 3246,
     "status": "ok",
     "timestamp": 1755200363537,
     "user": {
      "displayName": "Lillian Wang",
      "userId": "01820132309759340903"
     },
     "user_tz": 240
    },
    "id": "izXaLI54i_0X",
    "outputId": "fc2a8d89-703b-4d54-dc94-a19f5c930c3a"
   },
   "outputs": [],
   "source": [
    "# Azimuth over time from annotations (size weighted by amplitude)\n",
    "plt.figure(figsize=(8, 6))\n",
    "\n",
    "x_vals = []\n",
    "y_vals = []\n",
    "sizes = []\n",
    "\n",
    "selections, timestamps, species, low_freqs, high_freqs = annotations_timestamps(recording, target_species)\n",
    "\n",
    "for i in range(len(timestamps)):\n",
    "  start, end = (timestamps[i][0], timestamps[i][1])\n",
    "  if end - start < 0.05:\n",
    "    continue\n",
    "\n",
    "  azimuth, weights, freqs, *_ = spectrogram(file, s, s_B, framerate, start, end)\n",
    "\n",
    "  azimuth, weights, freqs = azimuth_filter(azimuth, weights, freqs, low_freqs[i], high_freqs[i])\n",
    "\n",
    "  azimuth = azimuth.flatten()\n",
    "  weights = weights.flatten()\n",
    "  amplitude = np.sqrt(weights)\n",
    "\n",
    "  counts, peaks = absolute_peaks(azimuth, weights)\n",
    "  #peaks, x_kde, y_kde = kde_peaks(azimuth, weights)\n",
    "  #counts, peaks = histogram_peaks(azimuth, weights)\n",
    "\n",
    "  for peak in peaks:\n",
    "    x_vals.append(start)\n",
    "    y_vals.append(peak)\n",
    "    sizes.append(np.sum(amplitude))\n",
    "\n",
    "plt.scatter(x_vals, y_vals, s=[size*5 for size in sizes], alpha=.75, color='b')\n",
    "plt.ylim(-np.pi, np.pi)\n",
    "plt.grid(True)\n",
    "\n",
    "plt.title(f'{target_species} azimuth over time')\n",
    "plt.xlabel('Time (s)')\n",
    "plt.ylabel('Azimuth')\n",
    "\n",
    "plt.tight_layout()\n",
    "plt.savefig(f'{target_species}-time-vs-azimuth.png', dpi=200)\n",
    "plt.show()\n"
   ]
  },
  {
   "cell_type": "code",
   "execution_count": null,
   "id": "B2mmRUtMVRKD",
   "metadata": {
    "colab": {
     "base_uri": "https://localhost:8080/",
     "height": 581
    },
    "executionInfo": {
     "elapsed": 182,
     "status": "ok",
     "timestamp": 1755200366741,
     "user": {
      "displayName": "Lillian Wang",
      "userId": "01820132309759340903"
     },
     "user_tz": 240
    },
    "id": "B2mmRUtMVRKD",
    "outputId": "4acec788-e9b5-4706-90ae-5dcf8b13d28e"
   },
   "outputs": [],
   "source": [
    "# Clustering based on time, azimuth, and amplitude (DBSCAN)\n",
    "from sklearn.cluster import DBSCAN\n",
    "from sklearn.preprocessing import StandardScaler\n",
    "plt.figure(figsize=(8, 6))\n",
    "\n",
    "X = np.array([x_vals, y_vals, sizes]).T\n",
    "X_scaled = StandardScaler().fit_transform(X)\n",
    "\n",
    "db = DBSCAN(eps=.75, min_samples=5).fit(X_scaled)\n",
    "labels = db.labels_\n",
    "n_clusters = len(set(labels))\n",
    "if -1 in labels:\n",
    "  n_clusters -= 1\n",
    "\n",
    "noise = labels == -1\n",
    "cluster = labels != -1\n",
    "x_vals = np.array(x_vals)\n",
    "y_vals = np.array(y_vals)\n",
    "sizes = np.array(sizes)\n",
    "\n",
    "print('Number of clusters: '+str(n_clusters))\n",
    "\n",
    "plt.scatter(x_vals[cluster], y_vals[cluster], c=labels[cluster], cmap=plt.cm.turbo,\n",
    "            s=[size*5 for size in sizes[cluster]], alpha=0.75)\n",
    "plt.scatter(x_vals[noise], y_vals[noise], c='k', s=[size*5 for size in sizes[noise]], alpha=0.5)\n",
    "plt.ylim(-np.pi, np.pi)\n",
    "plt.grid(True)\n",
    "\n",
    "plt.title(f'{target_species} azimuth over time (DBSCAN)\\n{n_clusters} clusters')\n",
    "plt.xlabel('Time (s)')\n",
    "plt.ylabel('Azimuth')\n",
    "\n",
    "plt.tight_layout()\n",
    "plt.savefig(f'{target_species}-dbscan.png', dpi=200)\n",
    "plt.show()"
   ]
  },
  {
   "cell_type": "code",
   "execution_count": null,
   "id": "Af414FC6-U2y",
   "metadata": {
    "colab": {
     "base_uri": "https://localhost:8080/",
     "height": 581
    },
    "executionInfo": {
     "elapsed": 502,
     "status": "ok",
     "timestamp": 1755200370515,
     "user": {
      "displayName": "Lillian Wang",
      "userId": "01820132309759340903"
     },
     "user_tz": 240
    },
    "id": "Af414FC6-U2y",
    "outputId": "925db5fe-120d-4662-8849-738c7be64d11"
   },
   "outputs": [],
   "source": [
    "# Clustering based on time, azimuth, and amplitude (BGM)\n",
    "from sklearn.mixture import BayesianGaussianMixture\n",
    "plt.figure(figsize=(8, 6))\n",
    "\n",
    "X = np.array([x_vals, y_vals, sizes]).T\n",
    "X_scaled = StandardScaler().fit_transform(X)\n",
    "\n",
    "bgm = BayesianGaussianMixture(tol=1e-2, n_components=20, weight_concentration_prior=.1)\n",
    "labels = bgm.fit_predict(X_scaled)\n",
    "\n",
    "active_clusters = np.sum(bgm.weights_ > .1)\n",
    "\n",
    "scatter = plt.scatter(x_vals, y_vals, c=labels, cmap=plt.cm.turbo, s=[size*5 for size in sizes], alpha=0.75)\n",
    "plt.ylim(-np.pi, np.pi)\n",
    "\n",
    "plt.title(f'{target_species} azimuth over time (BGM)\\n{active_clusters} clusters')\n",
    "plt.xlabel('Time (s)')\n",
    "plt.ylabel('Azimuth')\n",
    "\n",
    "plt.tight_layout()\n",
    "plt.savefig(f'{target_species}-bgm.png', dpi=200)\n",
    "plt.show()"
   ]
  },
  {
   "cell_type": "code",
   "execution_count": null,
   "id": "Gg9q02adjGyI",
   "metadata": {
    "colab": {
     "base_uri": "https://localhost:8080/",
     "height": 1000
    },
    "collapsed": true,
    "executionInfo": {
     "elapsed": 13408,
     "status": "ok",
     "timestamp": 1755197748822,
     "user": {
      "displayName": "Lillian Wang",
      "userId": "01820132309759340903"
     },
     "user_tz": 240
    },
    "id": "Gg9q02adjGyI",
    "outputId": "e7021977-1e02-4ac3-9093-b6f25310adee"
   },
   "outputs": [],
   "source": [
    "# All species azimuth over time from annotations (size weighed by amplitude)\n",
    "selections, timestamps, species, low_freqs, high_freqs = annotations_timestamps(recording)\n",
    "species = set(species)\n",
    "figs, axes = plt.subplots(nrows=len(species), ncols=1, figsize=(8, len(species)*4))\n",
    "\n",
    "for k, target_species in enumerate(species):\n",
    "  x_vals = []\n",
    "  y_vals = []\n",
    "  sizes = []\n",
    "\n",
    "  if not isinstance(target_species, str):\n",
    "    continue\n",
    "\n",
    "  selections, timestamps, species, low_freqs, high_freqs = annotations_timestamps(recording, target_species)\n",
    "\n",
    "  for i in range(len(timestamps)):\n",
    "    start, end = (timestamps[i][0], timestamps[i][1])\n",
    "    if end - start < 0.05:\n",
    "      continue\n",
    "\n",
    "    azimuth, weights, freqs, *_ = spectrogram(file, s, s_B, framerate, start, end)\n",
    "\n",
    "    azimuth, weights, freqs = azimuth_filter(azimuth, weights, freqs, low_freqs[i], high_freqs[i])\n",
    "\n",
    "    azimuth = azimuth.flatten()\n",
    "    weights = weights.flatten()\n",
    "    amplitude = np.sqrt(weights)\n",
    "\n",
    "    counts, peaks = absolute_peaks(azimuth, weights)\n",
    "    #peaks, x_kde, y_kde = kde_peaks(azimuth, weights)\n",
    "    #counts, peaks = histogram_peaks(azimuth, weights)\n",
    "\n",
    "    for peak in peaks:\n",
    "      x_vals.append(start)\n",
    "      y_vals.append(peak)\n",
    "      sizes.append(np.sum(amplitude))\n",
    "\n",
    "  axes[k].scatter(x_vals, y_vals, s=[size*5 for size in sizes], alpha=.75, color='b')\n",
    "\n",
    "  axes[k].set_title(f'{target_species} azimuth over time')\n",
    "  axes[k].set_xlabel('Time (s)')\n",
    "  axes[k].set_ylabel('Azimuth')\n",
    "  axes[k].set_ylim(-np.pi, np.pi)\n",
    "  axes[k].grid(True)\n",
    "\n",
    "plt.tight_layout()\n",
    "plt.savefig('time-vs-azimuth-all-species.png', dpi=200)\n",
    "plt.show()\n"
   ]
  },
  {
   "cell_type": "code",
   "execution_count": null,
   "id": "e8435490",
   "metadata": {},
   "outputs": [],
   "source": [
    "# Combined azimuth over time\n",
    "plt.figure(figsize=(12, 9))\n",
    "\n",
    "x_vals = []\n",
    "y_vals = []\n",
    "sizes = []\n",
    "colors = []\n",
    "\n",
    "selections, timestamps, species, low_freqs, high_freqs = annotations_timestamps(recording)\n",
    "\n",
    "species_list = sorted(set(species))  # Consistent order\n",
    "species_to_color = {sp: i for i, sp in enumerate(species_list)}\n",
    "\n",
    "for i in range(len(timestamps)):\n",
    "  start, end = timestamps[i][0], timestamps[i][1]\n",
    "  if end - start < 0.05:\n",
    "    continue\n",
    "  azimuth, weights, *_ = spectrogram(file, s, s_B, framerate, start, end)\n",
    "\n",
    "  azimuth = azimuth.flatten()\n",
    "  weights = weights.flatten()\n",
    "  amplitude = np.sqrt(weights)\n",
    "\n",
    "  counts, peaks = absolute_peaks(azimuth, weights)\n",
    "  #peaks, x_kde, y_kde = kde_peaks(azimuth, weights)\n",
    "  #counts, peaks = histogram_peaks(azimuth, weights)\n",
    "\n",
    "  for peak in peaks:\n",
    "    x_vals.append(start)\n",
    "    y_vals.append(peak)\n",
    "    sizes.append(np.sum(amplitude))\n",
    "    colors.append(species_to_color[species[i]])\n",
    "\n",
    "plt.scatter(x_vals, y_vals, c=colors, cmap='turbo', s=[size * 5 for size in sizes], alpha=.75)\n",
    "cmap = plt.cm.turbo\n",
    "num_species = len(species_list)\n",
    "patches = [\n",
    "    mpatches.Patch(color=cmap(species_to_color[sp]/(num_species-1)), label=sp)\n",
    "    for sp in species_list\n",
    "]\n",
    "\n",
    "plt.title('Azimuth over time')\n",
    "plt.xlabel('Time (s)')\n",
    "plt.ylabel('Azimuth')\n",
    "plt.ylim(-np.pi, np.pi)\n",
    "plt.grid(True)\n",
    "plt.legend(handles=patches, title='Species',loc=(1.05, 0))\n",
    "\n",
    "plt.tight_layout()\n",
    "plt.savefig('time-vs-azimuth-combined.png', dpi=200)\n",
    "plt.show()"
   ]
  },
  {
   "cell_type": "code",
   "execution_count": null,
   "id": "ehLUZ64XOSuk",
   "metadata": {
    "colab": {
     "base_uri": "https://localhost:8080/",
     "height": 1000,
     "output_embedded_package_id": "1AAWd8fW2d0Wj07ewfTnljqVosZmSbwel"
    },
    "collapsed": true,
    "executionInfo": {
     "elapsed": 20125,
     "status": "ok",
     "timestamp": 1755197768954,
     "user": {
      "displayName": "Lillian Wang",
      "userId": "01820132309759340903"
     },
     "user_tz": 240
    },
    "id": "ehLUZ64XOSuk",
    "outputId": "d0c12686-c865-4582-9813-446e332817bb"
   },
   "outputs": [],
   "source": [
    "# Polar plots by species (weighted)\n",
    "selections, timestamps, species, low_freqs, high_freqs = annotations_timestamps(recording)\n",
    "species = set(species)\n",
    "figs, axes = plt.subplots(nrows=len(species), ncols=1, figsize=(12, len(species)*6), subplot_kw={'polar': True})\n",
    "\n",
    "for k, bird in enumerate(species):\n",
    "  azimuth_list = []\n",
    "  weights_list = []\n",
    "\n",
    "  if not isinstance(bird, str):\n",
    "    continue\n",
    "\n",
    "  selections, timestamps, species, low_freqs, high_freqs = annotations_timestamps(recording, bird)\n",
    "\n",
    "  for i in range(len(timestamps)):\n",
    "    start, end = (timestamps[i][0], timestamps[i][1])\n",
    "    if end - start < 0.05:\n",
    "      continue\n",
    "\n",
    "    azimuth, weights, freqs, *_ = spectrogram(file, s, s_B, framerate, start, end)\n",
    "    azimuth, weights, freqs = azimuth_filter(azimuth, weights, freqs, low_freqs[i], high_freqs[i])\n",
    "\n",
    "    azimuth_list.append(azimuth.flatten())\n",
    "    weights_list.append(weights.flatten())\n",
    "\n",
    "  if len(azimuth_list) == 0:\n",
    "    continue\n",
    "\n",
    "  counts, bin_edges = np.histogram(np.concatenate(azimuth_list), weights=np.concatenate(weights_list), bins=bin_num)\n",
    "  bin_centers = 0.5*(bin_edges[1:]+bin_edges[:-1])\n",
    "\n",
    "  axes[k].plot(bin_centers, counts, color='b')\n",
    "  axes[k].set_title(f'{bird} weighted azimuth', pad=30)\n",
    "  axes[k].set_xlabel('Azimuth (degrees)')\n",
    "  axes[k].grid(True)\n",
    "\n",
    "plt.tight_layout()\n",
    "plt.savefig('polar-weighted-all-species.png', dpi=200)\n",
    "plt.show()\n"
   ]
  },
  {
   "cell_type": "code",
   "execution_count": null,
   "id": "4PLpS2u_KeMk",
   "metadata": {
    "colab": {
     "base_uri": "https://localhost:8080/",
     "height": 1000,
     "output_embedded_package_id": "11qc68mmaaUigl-Fapuh0HqR8n9nk0xqF"
    },
    "collapsed": true,
    "executionInfo": {
     "elapsed": 20520,
     "status": "ok",
     "timestamp": 1755197789534,
     "user": {
      "displayName": "Lillian Wang",
      "userId": "01820132309759340903"
     },
     "user_tz": 240
    },
    "id": "4PLpS2u_KeMk",
    "outputId": "bef59b41-657c-4db6-b1bd-d31edb6876e7"
   },
   "outputs": [],
   "source": [
    "# Polar plots by species (unweighted)\n",
    "selections, timestamps, species, low_freqs, high_freqs = annotations_timestamps(recording)\n",
    "species = set(species)\n",
    "figs, axes = plt.subplots(nrows=len(species), ncols=1, figsize=(12, len(species)*6), subplot_kw={'polar': True})\n",
    "\n",
    "for k, bird in enumerate(species):\n",
    "  azimuth_list = []\n",
    "  weights_list = []\n",
    "\n",
    "  if not isinstance(bird, str):\n",
    "    continue\n",
    "\n",
    "  selections, timestamps, species, low_freqs, high_freqs = annotations_timestamps(recording, bird)\n",
    "\n",
    "  for i in range(len(timestamps)):\n",
    "    start, end = (timestamps[i][0], timestamps[i][1])\n",
    "    if end - start < 0.05:\n",
    "      continue\n",
    "\n",
    "    azimuth, weights, freqs, *_ = spectrogram(file, s, s_B, framerate, start, end)\n",
    "    azimuth, weights, freqs = azimuth_filter(azimuth, weights, freqs, low_freqs[i], high_freqs[i])\n",
    "    \n",
    "    azimuth_list.append(azimuth.flatten())\n",
    "\n",
    "  if len(azimuth_list) == 0:\n",
    "    continue\n",
    "\n",
    "  counts, bin_edges = np.histogram(np.concatenate(azimuth_list), bins=bin_num)\n",
    "  bin_centers = 0.5*(bin_edges[1:]+bin_edges[:-1])\n",
    "\n",
    "  axes[k].plot(bin_centers, counts, color='b')\n",
    "  \n",
    "  axes[k].set_title(bird+' unweighted azimuth', pad=30)\n",
    "  axes[k].set_xlabel('Azimuth (degrees)')\n",
    "  axes[k].grid(True)\n",
    "\n",
    "plt.tight_layout()\n",
    "plt.savefig('polar-unweighted-all-species.png', dpi=200)\n",
    "plt.show()\n"
   ]
  },
  {
   "cell_type": "code",
   "execution_count": null,
   "id": "7a068276",
   "metadata": {},
   "outputs": [],
   "source": [
    "target_species = 'Common Yellowthroat'"
   ]
  },
  {
   "cell_type": "code",
   "execution_count": null,
   "id": "61fee11d",
   "metadata": {},
   "outputs": [],
   "source": [
    "# Unweighted cumulative histogram\n",
    "plt.figure(figsize=(12, 9))\n",
    "\n",
    "selections, timestamps, species, low_freqs, high_freqs = annotations_timestamps(recording, target_species)\n",
    "\n",
    "azimuth_list = []\n",
    "\n",
    "for i in range(len(timestamps)):\n",
    "  start, end = (timestamps[i][0], timestamps[i][1])\n",
    "  if end - start < 0.05:\n",
    "    continue\n",
    "\n",
    "  azimuth, weights, freqs, *_ = spectrogram(file, s, s_B, framerate, start, end)\n",
    "  azimuth, weights, freqs = azimuth_filter(azimuth, weights, freqs, low_freqs[i], high_freqs[i])\n",
    "\n",
    "  azimuth_list.append(azimuth.flatten())\n",
    "\n",
    "azimuth_list = np.concatenate(azimuth_list)\n",
    "\n",
    "plt.hist(azimuth_list, bins=bin_num, color='b', density=True)\n",
    "\n",
    "plt.title(f'{target_species} cumulative histogram of azimuth')\n",
    "plt.xlabel('Azimuth (radians)')\n",
    "#axes[i].plot(x_kde, y_kde, linewidth=.75, label='KDE', color='skyblue')\n",
    "\n",
    "plt.tight_layout()\n",
    "plt.savefig(f'{target_species}-cumulative-histogram.png', dpi=200)\n",
    "plt.show()"
   ]
  },
  {
   "cell_type": "code",
   "execution_count": null,
   "id": "vRkBFsfdjCFf",
   "metadata": {
    "colab": {
     "base_uri": "https://localhost:8080/",
     "height": 1000
    },
    "collapsed": true,
    "executionInfo": {
     "elapsed": 24435,
     "status": "ok",
     "timestamp": 1755197814002,
     "user": {
      "displayName": "Lillian Wang",
      "userId": "01820132309759340903"
     },
     "user_tz": 240
    },
    "id": "vRkBFsfdjCFf",
    "outputId": "be2dfc7e-60f8-4565-bc7e-3a308d93c28a"
   },
   "outputs": [],
   "source": [
    "# Histograms of annotations\n",
    "selections, timestamps, species, low_freqs, high_freqs = annotations_timestamps(recording, target_species)\n",
    "fig, axes = plt.subplots(nrows=len(timestamps), ncols=1, figsize=(8, len(timestamps)*4))\n",
    "\n",
    "x_vals = []\n",
    "y_vals = []\n",
    "sizes = []\n",
    "\n",
    "for i in range(len(timestamps)):\n",
    "  start, end = (timestamps[i][0], timestamps[i][1])\n",
    "  if end - start < 0.05:\n",
    "    continue\n",
    "  azimuth, weights, freqs, *_ = spectrogram(file, s, s_B, framerate, start, end)\n",
    "  azimuth, weights, freqs = azimuth_filter(azimuth, weights, freqs, low_freqs[i], high_freqs[i])\n",
    "\n",
    "  azimuth = azimuth.flatten()\n",
    "  weights = weights.flatten()\n",
    "\n",
    "  if len(azimuth) <= 1:\n",
    "    continue\n",
    "\n",
    "  counts, peaks = absolute_peaks(azimuth, weights)\n",
    "  #peaks, x_kde, y_kde = kde_peaks(azimuth, weights)\n",
    "  #counts, peaks = histogram_peaks(azimuth, weights)\n",
    "\n",
    "  axes[i].hist(azimuth, weights=weights, bins=bin_num, color='b', density=True)\n",
    "  ymin, ymax = axes[i].get_ylim()\n",
    "  axes[i].vlines(peaks, ymin=0, ymax=ymax, colors='red', linestyles='dashed', linewidth=0.75)\n",
    "  #axes[i].plot(x_kde, y_kde, linewidth=.75, label='KDE', color='skyblue')\n",
    "\n",
    "  axes[i].set_title(f'{target_species} weighted histogram of azimuth ({recording}.{selections[i]})')\n",
    "  axes[i].set_xlabel('Azimuth (radians)', fontsize=10)\n",
    "  #print(f'{recording}.{selections[i]} azimuth peaks: {peaks}')\n",
    "\n",
    "plt.tight_layout()\n",
    "plt.savefig(f'{target_species}-azimuth-histograms.png', dpi=200)\n",
    "plt.show()"
   ]
  },
  {
   "cell_type": "markdown",
   "id": "3s1CLbmOs-q7",
   "metadata": {
    "id": "3s1CLbmOs-q7"
   },
   "source": [
    "## Statistical analysis"
   ]
  },
  {
   "cell_type": "code",
   "execution_count": null,
   "id": "4GuilP5FrmBw",
   "metadata": {
    "executionInfo": {
     "elapsed": 288,
     "status": "ok",
     "timestamp": 1755197826532,
     "user": {
      "displayName": "Lillian Wang",
      "userId": "01820132309759340903"
     },
     "user_tz": 240
    },
    "id": "4GuilP5FrmBw"
   },
   "outputs": [],
   "source": [
    "# Find timestamps of audio segments containing target vocalization\n",
    "def birdnet_timestamps(recording, target_species=None, start_time=0, end_time=duration):\n",
    "    df = birdnet_dfs[recording-1]\n",
    "\n",
    "    if target_species is None:\n",
    "      birdnet_rows = df\n",
    "    else:\n",
    "      birdnet_rows = df[df['Common name'] == target_species]\n",
    "\n",
    "    timestamps = []\n",
    "    species = []\n",
    "    confidence = []\n",
    "\n",
    "    for i in range(len(birdnet_rows)):\n",
    "      start = birdnet_rows.iloc[i]['Start (s)']\n",
    "      end = birdnet_rows.iloc[i]['End (s)']\n",
    "      if start >= start_time and end <= end_time:\n",
    "        timestamps.append((start, end))\n",
    "        confidence.append(birdnet_rows.iloc[i]['Confidence'])\n",
    "        if target_species is None:\n",
    "          species.append(birdnet_rows.iloc[i]['Common name'])\n",
    "      else:\n",
    "        continue\n",
    "\n",
    "    return timestamps, species, confidence"
   ]
  },
  {
   "cell_type": "code",
   "execution_count": null,
   "id": "nizf-msOUBPe",
   "metadata": {
    "executionInfo": {
     "elapsed": 6,
     "status": "ok",
     "timestamp": 1755197826544,
     "user": {
      "displayName": "Lillian Wang",
      "userId": "01820132309759340903"
     },
     "user_tz": 240
    },
    "id": "nizf-msOUBPe"
   },
   "outputs": [],
   "source": [
    "# Convert annotations to 3s windows with 1.5s overlap\n",
    "def annotations_to_windows(recording, target_species=None, start_time=0, end_time=duration):\n",
    "  windows = []\n",
    "  ind = 10\n",
    "  while ind < duration:\n",
    "    windows.append((ind, ind+3))\n",
    "    ind += 1.5\n",
    "\n",
    "  selections, timestamps, species, low_freqs, high_freqs = annotations_timestamps(recording, target_species)\n",
    "\n",
    "  new_timestamps = []\n",
    "  new_species = []\n",
    "\n",
    "  for i in range(len(windows)):\n",
    "    i_start, i_end = windows[i]\n",
    "    window_duration = i_end - i_start\n",
    "\n",
    "    candidate_timestamps = []\n",
    "    candidate_species = []\n",
    "\n",
    "    for j in range(len(timestamps)):\n",
    "      j_start, j_end = timestamps[j]\n",
    "      annotation_duration = j_end - j_start\n",
    "\n",
    "      max_overlap = 0\n",
    "\n",
    "      # Calculate overlap\n",
    "      overlap_start = max(i_start, j_start)\n",
    "      overlap_end = min(i_end, j_end)\n",
    "      overlap = max(0, overlap_end - overlap_start)\n",
    "\n",
    "      if overlap >= 0.1 * annotation_duration and overlap > max_overlap:\n",
    "        max_overlap = overlap\n",
    "        candidate_timestamps.append((i_start, i_end))\n",
    "        candidate_species.append(species[j])\n",
    "\n",
    "    if len(candidate_timestamps) > 0:\n",
    "      new_timestamps.append(candidate_timestamps[-1])\n",
    "      new_species.append(candidate_species[-1])\n",
    "\n",
    "  return new_timestamps, new_species"
   ]
  },
  {
   "cell_type": "markdown",
   "id": "lhjDTmEryeTL",
   "metadata": {
    "id": "lhjDTmEryeTL"
   },
   "source": [
    "### Overall"
   ]
  },
  {
   "cell_type": "code",
   "execution_count": null,
   "id": "0jVMWH8D7f9l",
   "metadata": {
    "colab": {
     "base_uri": "https://localhost:8080/"
    },
    "executionInfo": {
     "elapsed": 800,
     "status": "ok",
     "timestamp": 1755197827343,
     "user": {
      "displayName": "Lillian Wang",
      "userId": "01820132309759340903"
     },
     "user_tz": 240
    },
    "id": "0jVMWH8D7f9l",
    "outputId": "9f5a46dc-bcca-4285-a15e-c151b9dc0746"
   },
   "outputs": [],
   "source": [
    "# Total number of detections and annotations\n",
    "detection_timestamps, detection_species, confidence = birdnet_timestamps(recording)\n",
    "annotation_timestamps, annotation_species = annotations_to_windows(recording)\n",
    "\n",
    "print('Number of detections: '+str(len(detection_timestamps)))\n",
    "print('Number of annotations: '+str(len(annotation_timestamps)))"
   ]
  },
  {
   "cell_type": "code",
   "execution_count": null,
   "id": "zTdOi_QyYYsi",
   "metadata": {
    "colab": {
     "base_uri": "https://localhost:8080/"
    },
    "executionInfo": {
     "elapsed": 1184,
     "status": "ok",
     "timestamp": 1755197828526,
     "user": {
      "displayName": "Lillian Wang",
      "userId": "01820132309759340903"
     },
     "user_tz": 240
    },
    "id": "zTdOi_QyYYsi",
    "outputId": "054e8649-8c5e-4f72-ffeb-9af34053b76e"
   },
   "outputs": [],
   "source": [
    "# Precision and recall at different thresholds (based on overlap)\n",
    "print('10% overlap between annotation and detection')\n",
    "print('-----------------------------------------------')\n",
    "\n",
    "thresholds = np.round(np.arange(0, 0.4, 0.05), 2)\n",
    "\n",
    "for threshold in thresholds:\n",
    "  print(f'\\n{threshold} confidence threshold')\n",
    "\n",
    "  filtered_timestamps = []\n",
    "  filtered_species = []\n",
    "\n",
    "  for t, sp, c in zip(detection_timestamps, detection_species, confidence):\n",
    "    if c >= threshold:\n",
    "        filtered_timestamps.append(t)\n",
    "        filtered_species.append(sp)\n",
    "  print(f'Number of detections: {len(filtered_timestamps)}')\n",
    "\n",
    "  true_positives = 0\n",
    "  false_positives = 0\n",
    "  false_negatives = 0\n",
    "\n",
    "  for i in range(len(filtered_timestamps)):\n",
    "    i_start, i_end = filtered_timestamps[i]\n",
    "    matched = False\n",
    "\n",
    "    for j in range(len(annotation_timestamps)):\n",
    "        j_start, j_end = annotation_timestamps[j]\n",
    "\n",
    "        overlap_start = max(i_start, j_start)\n",
    "        overlap_end = min(i_end, j_end)\n",
    "        overlap = max(0, overlap_end-overlap_start)\n",
    "\n",
    "        if overlap >= 0.3 and filtered_species[i] == annotation_species[j]:\n",
    "            matched = True\n",
    "            break\n",
    "\n",
    "    if matched:\n",
    "        true_positives += 1\n",
    "    else:\n",
    "        false_positives += 1\n",
    "\n",
    "  matched = None\n",
    "\n",
    "  for i in range(len(annotation_timestamps)):\n",
    "    i_start, i_end = annotation_timestamps[i]\n",
    "    matched = False\n",
    "\n",
    "    for j in range(len(filtered_timestamps)):\n",
    "        j_start, j_end = filtered_timestamps[j]\n",
    "\n",
    "        overlap_start = max(i_start, j_start)\n",
    "        overlap_end = min(i_end, j_end)\n",
    "        overlap = max(0, overlap_end-overlap_start)\n",
    "\n",
    "        if overlap >= 0.3 and annotation_species[i] == filtered_species[j]:\n",
    "            matched = True\n",
    "            break\n",
    "\n",
    "    if matched:\n",
    "      continue\n",
    "    else:\n",
    "      false_negatives += 1\n",
    "\n",
    "  print(f'True positives: {true_positives}')\n",
    "  print(f'False positives: {false_positives}')\n",
    "  print(f'False negatives: {false_negatives}')\n",
    "\n",
    "  p = true_positives/(true_positives + false_positives) if (true_positives+false_positives) > 0 else 0\n",
    "  r = true_positives/(true_positives + false_negatives) if (true_positives+false_negatives) > 0 else 0\n",
    "\n",
    "  print(f'Precision: {p:.3f}')\n",
    "  print(f'Recall: {r:.3f}')"
   ]
  },
  {
   "cell_type": "code",
   "execution_count": null,
   "id": "-LEfF_JxZzkE",
   "metadata": {
    "colab": {
     "base_uri": "https://localhost:8080/",
     "height": 581
    },
    "executionInfo": {
     "elapsed": 24781,
     "status": "ok",
     "timestamp": 1755197853308,
     "user": {
      "displayName": "Lillian Wang",
      "userId": "01820132309759340903"
     },
     "user_tz": 240
    },
    "id": "-LEfF_JxZzkE",
    "outputId": "0790e7f6-2e78-4d3f-fc4f-ededba65bd9d"
   },
   "outputs": [],
   "source": [
    "# Build precision-recall curve\n",
    "plt.figure(figsize=(8, 6))\n",
    "\n",
    "thresholds = np.arange(0, 1, 0.01)\n",
    "precision = []\n",
    "recall = []\n",
    "\n",
    "for threshold in thresholds:\n",
    "  # Filter based on the confidence threshold\n",
    "  filtered_timestamps = []\n",
    "  filtered_species = []\n",
    "\n",
    "  for t, sp, c in zip(detection_timestamps, detection_species, confidence):\n",
    "      if c >= threshold:\n",
    "          filtered_timestamps.append(t)\n",
    "          filtered_species.append(sp)\n",
    "\n",
    "  true_positives = 0\n",
    "  false_positives = 0\n",
    "  false_negatives = 0\n",
    "\n",
    "  for i in range(len(filtered_timestamps)):\n",
    "      i_start, i_end = filtered_timestamps[i]\n",
    "      matched = False\n",
    "\n",
    "      for j in range(len(annotation_timestamps)):\n",
    "          j_start, j_end = annotation_timestamps[j]\n",
    "\n",
    "          overlap_start = max(i_start, j_start)\n",
    "          overlap_end = min(i_end, j_end)\n",
    "          overlap = max(0, overlap_end-overlap_start)\n",
    "\n",
    "          if overlap >= 0.3 and filtered_species[i] == annotation_species[j]:\n",
    "              matched = True\n",
    "              break\n",
    "\n",
    "      if matched:\n",
    "          true_positives += 1\n",
    "      else:\n",
    "          false_positives += 1\n",
    "\n",
    "  for i in range(len(annotation_timestamps)):\n",
    "    i_start, i_end = annotation_timestamps[i]\n",
    "    matched = False\n",
    "\n",
    "    for j in range(len(detection_timestamps)):\n",
    "        j_start, j_end = detection_timestamps[j]\n",
    "\n",
    "        overlap_start = max(i_start, j_start)\n",
    "        overlap_end = min(i_end, j_end)\n",
    "        overlap = max(0, overlap_end-overlap_start)\n",
    "\n",
    "        if overlap >= 0.3 and annotation_species[i] == detection_species[j]:\n",
    "            matched = True\n",
    "            break\n",
    "\n",
    "    if matched:\n",
    "      continue\n",
    "    else:\n",
    "      false_negatives += 1\n",
    "\n",
    "  p = true_positives/(true_positives+false_positives) if (true_positives+false_positives) > 0 else 0\n",
    "  r = true_positives/(true_positives+false_negatives) if (true_positives+false_negatives) > 0 else 0\n",
    "\n",
    "  precision.append(p)\n",
    "  recall.append(r)\n",
    "\n",
    "plt.plot(recall, precision, color='b')\n",
    "plt.grid(True)\n",
    "plt.xlim(0, 1)\n",
    "plt.ylim(0, 1)\n",
    "\n",
    "plt.title('Precision-Recall Curve')\n",
    "plt.xlabel('Recall')\n",
    "plt.ylabel('Precision')"
   ]
  },
  {
   "cell_type": "markdown",
   "id": "KXinA63cyWVe",
   "metadata": {
    "id": "KXinA63cyWVe"
   },
   "source": [
    "### By species"
   ]
  },
  {
   "cell_type": "code",
   "execution_count": null,
   "id": "dv9zAfl_xOxg",
   "metadata": {
    "executionInfo": {
     "elapsed": 998,
     "status": "ok",
     "timestamp": 1755197854320,
     "user": {
      "displayName": "Lillian Wang",
      "userId": "01820132309759340903"
     },
     "user_tz": 240
    },
    "id": "dv9zAfl_xOxg"
   },
   "outputs": [],
   "source": [
    "# Find set of all species\n",
    "detection_timestamps, detection_species, confidence = birdnet_timestamps(1, start_time=0, end_time=600)\n",
    "annotation_timestamps, annotation_species = annotations_to_windows(1)\n",
    "\n",
    "detection_species=set(detection_species)\n",
    "annotation_species=set(annotation_species)\n",
    "all_species = detection_species.union(annotation_species)"
   ]
  },
  {
   "cell_type": "code",
   "execution_count": null,
   "id": "AoSXtgQtjXKP",
   "metadata": {
    "colab": {
     "base_uri": "https://localhost:8080/"
    },
    "executionInfo": {
     "elapsed": 843,
     "status": "ok",
     "timestamp": 1755197855179,
     "user": {
      "displayName": "Lillian Wang",
      "userId": "01820132309759340903"
     },
     "user_tz": 240
    },
    "id": "AoSXtgQtjXKP",
    "outputId": "648d8bd4-2dcc-4d3a-bdd1-66c801ee818f"
   },
   "outputs": [],
   "source": [
    "# Precision and recall by species\n",
    "print('By each species (0.5 confidence threshold)')\n",
    "print('-----------------------------------------------')\n",
    "\n",
    "for bird in all_species:\n",
    "  if not isinstance(bird, str):\n",
    "    continue\n",
    "\n",
    "  print('\\n' + bird)\n",
    "\n",
    "  true_positives = 0\n",
    "  false_positives = 0\n",
    "  false_negatives = 0\n",
    "\n",
    "  detection_timestamps, *_ = birdnet_timestamps(1, target_species=bird, start_time=0, end_time=600)\n",
    "  annotation_timestamps, *_ = annotations_to_windows(1, target_species=bird)\n",
    "\n",
    "  # Loop through detections to find true and false pos\n",
    "  for i in range(len(detection_timestamps)):\n",
    "    i_start, i_end = detection_timestamps[i]\n",
    "    matched = False\n",
    "\n",
    "    for j in range(len(annotation_timestamps)):\n",
    "        j_start, j_end = annotation_timestamps[j]\n",
    "\n",
    "        overlap_start = max(i_start, j_start)\n",
    "        overlap_end = min(i_end, j_end)\n",
    "        overlap = max(0, overlap_end - overlap_start)\n",
    "\n",
    "        if overlap >= 0.3:\n",
    "            matched = True\n",
    "            break\n",
    "\n",
    "    if matched:\n",
    "      true_positives += 1\n",
    "    else:\n",
    "      false_positives += 1\n",
    "\n",
    "  # Loop through annotations to find false neg\n",
    "  for i in range(len(annotation_timestamps)):\n",
    "    i_start, i_end = annotation_timestamps[i]\n",
    "    matched = False\n",
    "\n",
    "    for j in range(len(detection_timestamps)):\n",
    "        j_start, j_end = detection_timestamps[j]\n",
    "\n",
    "        overlap_start = max(i_start, j_start)\n",
    "        overlap_end = min(i_end, j_end)\n",
    "        overlap = max(0, overlap_end - overlap_start)\n",
    "\n",
    "        if overlap >= 0.3:\n",
    "            matched = True\n",
    "            break\n",
    "\n",
    "    if matched:\n",
    "      continue\n",
    "    else:\n",
    "      false_negatives += 1\n",
    "\n",
    "  print(f'\\tTrue positives: {true_positives}')\n",
    "  print(f'\\tFalse positives: {false_positives}')\n",
    "  print(f'\\tFalse negatives: {false_negatives}')\n",
    "\n",
    "  p = true_positives/(true_positives + false_positives) if (true_positives+false_positives) > 0 else 0\n",
    "  r = true_positives/(true_positives + false_negatives) if (true_positives+false_negatives) > 0 else 0\n",
    "\n",
    "  print(f'\\tPrecision: {p:.3f}')\n",
    "  print(f'\\tRecall: {r:.3f}')"
   ]
  },
  {
   "cell_type": "code",
   "execution_count": null,
   "id": "2PJytvJxrO7a",
   "metadata": {
    "colab": {
     "base_uri": "https://localhost:8080/",
     "height": 1000
    },
    "executionInfo": {
     "elapsed": 10505,
     "status": "ok",
     "timestamp": 1755197865724,
     "user": {
      "displayName": "Lillian Wang",
      "userId": "01820132309759340903"
     },
     "user_tz": 240
    },
    "id": "2PJytvJxrO7a",
    "outputId": "6c0963be-09a1-452b-a78b-b06511305dc5"
   },
   "outputs": [],
   "source": [
    "# Precision-recall curves by species\n",
    "fig, axes = plt.subplots(nrows=len(all_species), ncols=1, figsize=(8, len(all_species)*4))\n",
    "\n",
    "for k, bird in enumerate(all_species):\n",
    "  if not isinstance(bird, str):\n",
    "    continue\n",
    "\n",
    "  detection_timestamps, detection_species, confidence = birdnet_timestamps(1, target_species=bird, start_time=0, end_time=120)\n",
    "  annotation_timestamps, annotation_species = annotations_to_windows(1, target_species=bird)\n",
    "\n",
    "  precision = []\n",
    "  recall = []\n",
    "\n",
    "  # Filter based on confidence threshold\n",
    "  thresholds = np.arange(0, 1, 0.01)\n",
    "\n",
    "  for threshold in thresholds:\n",
    "    filtered_timestamps = []\n",
    "\n",
    "    for t, c in zip(detection_timestamps, confidence):\n",
    "      if c >= threshold:\n",
    "          filtered_timestamps.append(t)\n",
    "\n",
    "    true_positives = 0\n",
    "    false_positives = 0\n",
    "    false_negatives = 0\n",
    "\n",
    "    # Loop through filtered detections to find true and false pos\n",
    "    for i in range(len(filtered_timestamps)):\n",
    "      i_start, i_end = filtered_timestamps[i]\n",
    "      matched = False\n",
    "\n",
    "      for j in range(len(annotation_timestamps)):\n",
    "          j_start, j_end = annotation_timestamps[j]\n",
    "\n",
    "          overlap_start = max(i_start, j_start)\n",
    "          overlap_end = min(i_end, j_end)\n",
    "          overlap = max(0, overlap_end - overlap_start)\n",
    "\n",
    "          if overlap >= 0.3:\n",
    "              matched = True\n",
    "              break\n",
    "\n",
    "      if matched:\n",
    "        true_positives += 1\n",
    "      else:\n",
    "        false_positives += 1\n",
    "\n",
    "    # Loop through annotations to find false neg\n",
    "    for i in range(len(annotation_timestamps)):\n",
    "      i_start, i_end = annotation_timestamps[i]\n",
    "      matched = False\n",
    "\n",
    "      for j in range(len(detection_timestamps)):\n",
    "          j_start, j_end = detection_timestamps[j]\n",
    "\n",
    "          overlap_start = max(i_start, j_start)\n",
    "          overlap_end = min(i_end, j_end)\n",
    "          overlap = max(0, overlap_end - overlap_start)\n",
    "\n",
    "          if overlap >= 0.3:\n",
    "              matched = True\n",
    "              break\n",
    "\n",
    "      if matched:\n",
    "        continue\n",
    "      else:\n",
    "        false_negatives += 1\n",
    "\n",
    "    p = true_positives/(true_positives+false_positives) if (true_positives+false_positives) > 0 else 0\n",
    "    r = true_positives/(true_positives+false_negatives) if (true_positives+false_negatives) > 0 else 0\n",
    "\n",
    "    precision.append(p)\n",
    "    recall.append(r)\n",
    "\n",
    "  axes[k].plot(recall, precision, color='b')\n",
    "  axes[k].grid(True)\n",
    "  axes[k].set_xlim(0, 1)\n",
    "  axes[k].set_ylim(0, 1)\n",
    "\n",
    "  axes[k].set_title(bird)\n",
    "  axes[k].set_xlabel('Recall')\n",
    "  axes[k].set_ylabel('Precision')\n",
    "\n",
    "plt.tight_layout()\n",
    "plt.show()"
   ]
  },
  {
   "cell_type": "markdown",
   "id": "HhFUVQsDylR3",
   "metadata": {
    "id": "HhFUVQsDylR3"
   },
   "source": [
    "### Other"
   ]
  },
  {
   "cell_type": "code",
   "execution_count": null,
   "id": "x50ieDTajU4i",
   "metadata": {
    "colab": {
     "base_uri": "https://localhost:8080/"
    },
    "executionInfo": {
     "elapsed": 613,
     "status": "ok",
     "timestamp": 1755197866345,
     "user": {
      "displayName": "Lillian Wang",
      "userId": "01820132309759340903"
     },
     "user_tz": 240
    },
    "id": "x50ieDTajU4i",
    "outputId": "14f68c05-4636-4e3a-aceb-2a458ebbf652"
   },
   "outputs": [],
   "source": [
    "# Precision and recall (based on presence/absence)\n",
    "print('Species presence/absence (.1 confidence threshold)')\n",
    "print('-----------------------------------------------')\n",
    "\n",
    "detection_timestamps, detection_species, confidence = birdnet_timestamps(1, start_time=0, end_time=600)\n",
    "annotation_timestamps, annotation_species = annotations_to_windows(1)\n",
    "\n",
    "detection_species=set(detection_species)\n",
    "annotation_species=set(annotation_species)\n",
    "\n",
    "true_positives = 0\n",
    "false_positives = 0\n",
    "false_negatives = 0\n",
    "\n",
    "for bird in detection_species:\n",
    "  if bird in annotation_species:\n",
    "    true_positives += 1\n",
    "  else:\n",
    "    false_positives += 1\n",
    "\n",
    "for bird in annotation_species:\n",
    "  if not bird in detection_species:\n",
    "    false_negatives += 1\n",
    "\n",
    "print(f'True positives: {true_positives}')\n",
    "print(f'False positives: {false_positives}')\n",
    "print(f'False negatives: {false_negatives}')\n",
    "\n",
    "precision = true_positives/(true_positives+false_positives)\n",
    "print(f'Precision: {precision}')\n",
    "\n",
    "recall = true_positives/(true_positives+false_negatives)\n",
    "print(f'Recall: {recall}')"
   ]
  }
 ],
 "metadata": {
  "colab": {
   "provenance": [
    {
     "file_id": "1R2n3MGbaKJ52aNhprgGLm8v290JF7TS_",
     "timestamp": 1752673969440
    },
    {
     "file_id": "1o7pZ6lN8B5lMRCDYhVSEtHMYxR8cz7p3",
     "timestamp": 1750444565896
    }
   ]
  },
  "kernelspec": {
   "display_name": "base",
   "language": "python",
   "name": "python3"
  },
  "language_info": {
   "codemirror_mode": {
    "name": "ipython",
    "version": 3
   },
   "file_extension": ".py",
   "mimetype": "text/x-python",
   "name": "python",
   "nbconvert_exporter": "python",
   "pygments_lexer": "ipython3",
   "version": "3.12.4"
  }
 },
 "nbformat": 4,
 "nbformat_minor": 5
}
