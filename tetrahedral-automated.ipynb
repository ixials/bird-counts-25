{
 "cells": [
  {
   "cell_type": "code",
   "execution_count": null,
   "id": "8e234ec6",
   "metadata": {
    "colab": {
     "base_uri": "https://localhost:8080/"
    },
    "executionInfo": {
     "elapsed": 14417,
     "status": "ok",
     "timestamp": 1753466448723,
     "user": {
      "displayName": "Lillian Wang",
      "userId": "01820132309759340903"
     },
     "user_tz": 240
    },
    "id": "8e234ec6",
    "outputId": "eb329f2b-261f-4cc2-80ef-4fe6efcaab71"
   },
   "outputs": [],
   "source": [
    "import os\n",
    "import pandas as pd\n",
    "import numpy as np \n",
    "from matplotlib import pyplot as plt \n",
    "from matplotlib import patches as mpatches\n",
    "import librosa\n",
    "from scipy import signal as scipysig \n",
    "from scipy.signal import find_peaks\n",
    "from scipy.stats import gaussian_kde\n",
    "from natsort import natsorted\n",
    "from matplotlib.animation import FuncAnimation"
   ]
  },
  {
   "cell_type": "code",
   "execution_count": null,
   "id": "d4b5991b",
   "metadata": {},
   "outputs": [],
   "source": [
    "# Setting parameters\n",
    "recordings = 26\n",
    "dir = '/Users/lillianwang/Documents/bird-counts-25/'\n",
    "birdnet_dir = dir+'data/birdnet/'\n",
    "ebird_dir = dir+'data/ebird/'"
   ]
  },
  {
   "cell_type": "code",
   "execution_count": null,
   "id": "bf62b7f1",
   "metadata": {},
   "outputs": [],
   "source": [
    "def load_data(dir):\n",
    "    files = natsorted([f for f in os.listdir(dir) if f.endswith('.csv')])\n",
    "    dfs = []\n",
    "    for i, file in enumerate(files):\n",
    "        df = pd.read_csv(dir+file, encoding='latin1')\n",
    "        df['Recording'] = i+1\n",
    "        dfs.append(df)\n",
    "    return dfs"
   ]
  },
  {
   "cell_type": "code",
   "execution_count": null,
   "id": "dcca43d7",
   "metadata": {},
   "outputs": [],
   "source": [
    "# Read data\n",
    "birdnet_dfs = load_data(birdnet_dir)\n",
    "ebird_dfs = load_data(ebird_dir)\n",
    "\n",
    "# Strip durations to digits\n",
    "def extract_numbers(text):\n",
    "    return ''.join(filter(str.isdigit, text))\n",
    "    \n",
    "for ebird_df, birdnet_df in zip(ebird_dfs, birdnet_dfs):\n",
    "    if not ebird_df.empty:\n",
    "        birdnet_df['Duration'] = ebird_df['Duration'].apply(extract_numbers)\n",
    "        ebird_df['Duration'] = ebird_df['Duration'].apply(extract_numbers)\n",
    "\n",
    "combined_birdnet = pd.concat(birdnet_dfs)\n",
    "combined_ebird = pd.concat(ebird_dfs)"
   ]
  },
  {
   "cell_type": "markdown",
   "id": "LEI0ssQv4uFN",
   "metadata": {
    "id": "LEI0ssQv4uFN"
   },
   "source": [
    "## Helper functions"
   ]
  },
  {
   "cell_type": "code",
   "execution_count": null,
   "id": "a21d94b6",
   "metadata": {
    "id": "a21d94b6"
   },
   "outputs": [],
   "source": [
    "# Setting parameters\n",
    "n_fft = 1024\n",
    "nf = 160\n",
    "highpass_filter = 500"
   ]
  },
  {
   "cell_type": "code",
   "execution_count": null,
   "id": "262a2629",
   "metadata": {
    "id": "262a2629"
   },
   "outputs": [],
   "source": [
    "# ---- filtering function ----\n",
    "def butter_highpass_filter(data, cut, fs, order=5):\n",
    "    cutoff = 2 * cut / fs\n",
    "    b, a = scipysig.butter(order, cutoff, btype='high', analog=False)\n",
    "    y = scipysig.filtfilt(b, a, data)\n",
    "    return y\n",
    "\n",
    "# ---- function to convert linear units to dB ----\n",
    "def logTransform(spec, scale=10**(-5)):\n",
    "    return 20 * np.log10(spec + scale * np.ones(spec.shape))\n",
    "\n",
    "# ---- function to load 4-channel audio and convert to B-format ----\n",
    "def loadData(uploaded_file):\n",
    "    # ---- read in file ----\n",
    "    (s, framerate) = librosa.core.load(uploaded_file, sr=None, mono=False)\n",
    "\n",
    "    # ---- get part of signal ----\n",
    "    s = s/np.max(s)**2\n",
    "\n",
    "    # ---- filter signal ----\n",
    "    s = butter_highpass_filter(s, highpass_filter, framerate)\n",
    "    s = s[:4, :]\n",
    "    # ---- convert to b-format through matrix multiplication ----\n",
    "    b_transform = np.asarray([[1, 1, 1, 1], [1, 1, -1, -1], [1, -1, 1, -1], [1, -1, -1, 1]])\n",
    "    s_B = b_transform @ s\n",
    "\n",
    "    return s, s_B, framerate"
   ]
  },
  {
   "cell_type": "code",
   "execution_count": null,
   "id": "a88f3cc8",
   "metadata": {},
   "outputs": [],
   "source": [
    "# Load in file\n",
    "recording = 15\n",
    "target_species = 'Red-eyed Vireo'\n",
    "duration = 600\n",
    "bin_num = 60\n",
    "file = os.path.join(dir+f'data/recordings/{recording}.WAV')\n",
    "s, s_B, framerate = loadData(file)"
   ]
  },
  {
   "cell_type": "code",
   "execution_count": null,
   "id": "2d5fbdfd",
   "metadata": {
    "id": "2d5fbdfd"
   },
   "outputs": [],
   "source": [
    "# make b-format spectrogram\n",
    "def spectrogram(file, s, s_B, framerate, start, end):\n",
    "  end = int(np.ceil(end * framerate))\n",
    "  if start is not None:\n",
    "      start = int(np.trunc(start * framerate))\n",
    "      s = s[:, start:end]\n",
    "\n",
    "  b_transform = np.asarray([[1, 1, 1, 1], [1, 1, -1, -1], [1, -1, 1, -1], [1, -1, -1, 1]])\n",
    "  s_B = b_transform @ s\n",
    "\n",
    "  specs = []\n",
    "  for num in np.arange(4):\n",
    "      freqs, inds, spec = scipysig.stft(s_B[num,:], fs=framerate, nperseg=n_fft)\n",
    "      nf_full = len(freqs)\n",
    "      freqs = freqs[0:nf]\n",
    "      specs.append(spec[0:nf, :].T)\n",
    "\n",
    "  # directly get the three components\n",
    "  w = specs[0] # p(f,t)\n",
    "  x = specs[1] # v(f,t) x\n",
    "  y = specs[2] # v(f,t)\n",
    "  # azimuth values for all pixels\n",
    "  azimuth = np.arctan2(np.real(w.conj() * y), np.real(w.conj() * x)) # eq 10\n",
    "\n",
    "  # weight the azimuth values by the intensity\n",
    "  weights = np.abs(w)**2\n",
    "\n",
    "  # get grids for time and frequency\n",
    "  f_grid, time_grid = np.meshgrid(freqs, inds)\n",
    "\n",
    "  # need to set these parameters for histogram\n",
    "  duration = len(s_B[0])/framerate\n",
    "  time_step = 0.05\n",
    "  num_time = int(duration * 1/time_step)\n",
    "  num_azim = 60\n",
    "\n",
    "  # histogram\n",
    "  hist, azim_edges, time_edges = np.histogram2d(x = azimuth.ravel(), y = time_grid.ravel(),\n",
    "                                                bins=[num_azim, num_time],\n",
    "                                                weights = weights.ravel())\n",
    "\n",
    "  log_hist = np.log(hist + 0.01 * np.ones(hist.shape))\n",
    "\n",
    "  return azimuth, weights, freqs, hist, azim_edges, time_edges, log_hist"
   ]
  },
  {
   "cell_type": "code",
   "execution_count": null,
   "id": "gBcrhacCaIL2",
   "metadata": {
    "id": "gBcrhacCaIL2"
   },
   "outputs": [],
   "source": [
    "# Find timestamps of audio segments containing target vocalization\n",
    "def generate_timestamps(recording, target_species=None, start_time=0, end_time=duration):\n",
    "    df = birdnet_dfs[recording-1]\n",
    "\n",
    "    if target_species is None:\n",
    "      birdnet_rows = df\n",
    "    else:\n",
    "      birdnet_rows = df[df['Common name'] == target_species]\n",
    "\n",
    "    timestamps = []\n",
    "    species = []\n",
    "    confidence = []\n",
    "\n",
    "    for i in range(len(birdnet_rows)):\n",
    "      start = birdnet_rows.iloc[i]['Start (s)']\n",
    "      end = birdnet_rows.iloc[i]['End (s)']\n",
    "      if start >= start_time and end <= end_time:\n",
    "        timestamps.append((start, end))\n",
    "        confidence.append(birdnet_rows.iloc[i]['Confidence'])\n",
    "        if target_species is None:\n",
    "          species.append(birdnet_rows.iloc[i]['Common name'])\n",
    "      else:\n",
    "        continue\n",
    "\n",
    "    return timestamps, species, confidence"
   ]
  },
  {
   "cell_type": "code",
   "execution_count": null,
   "id": "1zz2AzCU46qg",
   "metadata": {
    "id": "1zz2AzCU46qg"
   },
   "outputs": [],
   "source": [
    "# Absolute peak of histogram\n",
    "def absolute_peaks(azimuth, weights):\n",
    "  counts, bin_edges = np.histogram(azimuth, weights=weights, bins=bin_num)\n",
    "  peaks, _ = find_peaks(counts, height=np.max(counts))\n",
    "  bin_centers = 0.5*(bin_edges[1:]+bin_edges[:-1])\n",
    "  return counts, bin_centers[peaks]\n",
    "\n",
    "# Calculate histogram peaks using percent of peak method\n",
    "def histogram_peaks(azimuth, weights):\n",
    "  counts, bin_edges = np.histogram(azimuth, weights=weights, bins=bin_num)\n",
    "  peaks, _ = find_peaks(counts, prominence=0.5*np.max(counts))\n",
    "  bin_centers = 0.5*(bin_edges[1:]+bin_edges[:-1])\n",
    "  return counts, bin_centers[peaks]\n",
    "\n",
    "# Calculate histogram peaks using kernel density estimation method\n",
    "def kde_peaks(azimuth, weights):\n",
    "  kde = gaussian_kde(azimuth, weights=weights)\n",
    "  x_kde = np.linspace(np.min(azimuth), np.max(azimuth))\n",
    "  y_kde = kde(x_kde)\n",
    "\n",
    "  kde_peaks_indices, _ = find_peaks(y_kde, prominence=0.01)\n",
    "  kde_peaks = x_kde[kde_peaks_indices]\n",
    "  return kde_peaks, x_kde, y_kde"
   ]
  },
  {
   "cell_type": "code",
   "execution_count": null,
   "id": "a3q-Zms8QaOD",
   "metadata": {
    "id": "a3q-Zms8QaOD"
   },
   "outputs": [],
   "source": [
    "# Filter out azimuths outside range [low_freq, high_freq]\n",
    "def azimuth_filter(azimuth, weights, freqs, low_freq, high_freq):\n",
    "    freq_range = (freqs >= low_freq) & (freqs <= high_freq)\n",
    "\n",
    "    filtered_azimuths = azimuth[:, freq_range]\n",
    "    filtered_weights = weights[:, freq_range]\n",
    "    filtered_freqs = freqs[freq_range]\n",
    "\n",
    "    return filtered_azimuths, filtered_weights, filtered_freqs"
   ]
  },
  {
   "cell_type": "markdown",
   "id": "2o7q0YT-4sCE",
   "metadata": {
    "id": "2o7q0YT-4sCE"
   },
   "source": [
    "## Azimuth"
   ]
  },
  {
   "cell_type": "code",
   "execution_count": null,
   "id": "13QJLq_Lmk0H",
   "metadata": {
    "colab": {
     "base_uri": "https://localhost:8080/",
     "height": 1000
    },
    "executionInfo": {
     "elapsed": 49915,
     "status": "ok",
     "timestamp": 1753466535508,
     "user": {
      "displayName": "Lillian Wang",
      "userId": "01820132309759340903"
     },
     "user_tz": 240
    },
    "id": "13QJLq_Lmk0H",
    "outputId": "9e280c20-e9b0-4c9f-bab0-98dfaaf31651"
   },
   "outputs": [],
   "source": [
    "# Combined azimuth over time\n",
    "plt.figure(figsize=(12, 9))\n",
    "\n",
    "x_vals = []\n",
    "y_vals = []\n",
    "sizes = []\n",
    "colors = []\n",
    "\n",
    "timestamps, species, confidence = generate_timestamps(recording)\n",
    "\n",
    "species_list = sorted(set(species))  # Consistent order\n",
    "species_to_color = {sp: i for i, sp in enumerate(species_list)}\n",
    "\n",
    "for i in range(len(timestamps)):\n",
    "  start, end = (timestamps[i][0], timestamps[i][1])\n",
    "  azimuth, weights, *_ = spectrogram(file, s, s_B, framerate, start, end)\n",
    "  azimuth = azimuth.flatten()\n",
    "  weights = weights.flatten()\n",
    "\n",
    "  counts, peaks = absolute_peaks(azimuth, weights)\n",
    "  #peaks, x_kde, y_kde = kde_peaks(azimuth, weights)\n",
    "  #counts, peaks = histogram_peaks(azimuth, weights)\n",
    "\n",
    "  for peak in peaks:\n",
    "    x_vals.append(start)\n",
    "    y_vals.append(peak)\n",
    "    sizes.append(confidence[i]*1000)\n",
    "    colors.append(species_to_color[species[i]])\n",
    "\n",
    "plt.scatter(x_vals, y_vals, c=colors, cmap='turbo', s=sizes, alpha=.75)\n",
    "cmap = plt.cm.turbo\n",
    "num_species = len(species_list)\n",
    "patches = [mpatches.Patch(color=cmap(species_to_color[sp]/(num_species-1)), label=sp)\n",
    "           for sp in species_list]\n",
    "\n",
    "plt.title('Azimuth over time')\n",
    "plt.xlabel('Time (s)')\n",
    "plt.ylabel('Azimuth')\n",
    "plt.ylim(-np.pi, np.pi)\n",
    "plt.grid(True)\n",
    "plt.legend(handles=patches, title='Species',loc=(1.05, 0))\n",
    "\n",
    "plt.tight_layout()\n",
    "plt.savefig('time-vs-azimuth-combined.png', dpi=200)\n",
    "plt.show()\n"
   ]
  },
  {
   "cell_type": "code",
   "execution_count": null,
   "id": "JRo5JsVZeORC",
   "metadata": {
    "colab": {
     "base_uri": "https://localhost:8080/",
     "height": 1000
    },
    "collapsed": true,
    "executionInfo": {
     "elapsed": 24264,
     "status": "ok",
     "timestamp": 1753466559751,
     "user": {
      "displayName": "Lillian Wang",
      "userId": "01820132309759340903"
     },
     "user_tz": 240
    },
    "id": "JRo5JsVZeORC",
    "outputId": "37ec5666-2aee-4813-8c73-4ef74808a335"
   },
   "outputs": [],
   "source": [
    "# Histograms of annotations\n",
    "timestamps, species, confidence = generate_timestamps(recording, target_species)\n",
    "fig, axes = plt.subplots(nrows=len(timestamps), ncols=1, figsize=(8, len(timestamps)*4))\n",
    "\n",
    "x_vals = []\n",
    "y_vals = []\n",
    "sizes = []\n",
    "\n",
    "for i in range(len(timestamps)):\n",
    "  start, end = (timestamps[i][0], timestamps[i][1])\n",
    "  azimuth, weights, *_ = spectrogram(file, s, s_B, framerate, start, end)\n",
    "\n",
    "  azimuth = azimuth.flatten()\n",
    "  weights = weights.flatten()\n",
    "\n",
    "  counts, peaks = absolute_peaks(azimuth, weights)\n",
    "  #peaks, x_kde, y_kde = kde_peaks(azimuth, weights)\n",
    "  #counts, peaks = histogram_peaks(azimuth, weights)\n",
    "\n",
    "  axes[i].hist(azimuth, weights=weights, bins=bin_num, color='b', density=True)\n",
    "  ymin, ymax = axes[i].get_ylim()\n",
    "  axes[i].vlines(peaks, ymin=0, ymax=ymax, colors='red', linestyles='dashed', linewidth=0.75)\n",
    "  # axes[i].plot(x_kde, y_kde, linewidth=.75, label='KDE')\n",
    "  \n",
    "  axes[i].set_title(f'{target_species} weighted histogram of azimuth ({recording}, {start:.0f}-{end:.0f}s)')\n",
    "  axes[i].set_xlabel('Azimuth (radians)', fontsize=10)\n",
    "  #print(f'{recording}.{i+1} azimuth peaks: {peaks}')\n",
    "\n",
    "plt.tight_layout()\n",
    "plt.savefig(f'{target_species}-azimuth-histograms.png', dpi=200)\n",
    "plt.show()"
   ]
  },
  {
   "cell_type": "code",
   "execution_count": null,
   "id": "fIDWGYO-1PoG",
   "metadata": {
    "colab": {
     "base_uri": "https://localhost:8080/",
     "height": 607
    },
    "executionInfo": {
     "elapsed": 23,
     "status": "ok",
     "timestamp": 1753466559790,
     "user": {
      "displayName": "Lillian Wang",
      "userId": "01820132309759340903"
     },
     "user_tz": 240
    },
    "id": "fIDWGYO-1PoG",
    "outputId": "d6c6c77d-9673-4704-90aa-95bb2914e4c9"
   },
   "outputs": [],
   "source": [
    "# Azimuth over time from detections (size weighed by confidence)\n",
    "plt.figure(figsize=(8, 6))\n",
    "\n",
    "x_vals = []\n",
    "y_vals = []\n",
    "sizes = []\n",
    "\n",
    "timestamps, species, confidence = generate_timestamps(recording, target_species)\n",
    "\n",
    "for i in range(len(timestamps)):\n",
    "  start, end = (timestamps[i][0], timestamps[i][1])\n",
    "  azimuth, weights, *_ = spectrogram(file, s, s_B, framerate, start, end)\n",
    "  azimuth = azimuth.flatten()\n",
    "  weights = weights.flatten()\n",
    "\n",
    "  counts, peaks = absolute_peaks(azimuth, weights)\n",
    "  #peaks, x_kde, y_kde = kde_peaks(azimuth, weights)\n",
    "  #counts, peaks = histogram_peaks(azimuth, weights)\n",
    "\n",
    "  for peak in peaks:\n",
    "    x_vals.append(start)\n",
    "    y_vals.append(peak)\n",
    "    sizes.append(confidence[i]*500)\n",
    "\n",
    "plt.scatter(x_vals, y_vals, s=sizes, alpha=.75, color='b')\n",
    "plt.ylim(-np.pi, np.pi)\n",
    "plt.grid(True)\n",
    "\n",
    "plt.title(f'{target_species} azimuth over time')\n",
    "plt.xlabel('Time (s)')\n",
    "plt.ylabel('Azimuth')\n",
    "\n",
    "plt.tight_layout()\n",
    "plt.savefig(f'{target_species}-time-vs-azimuth.png', dpi=200)\n",
    "plt.show()\n"
   ]
  },
  {
   "cell_type": "code",
   "execution_count": null,
   "id": "BT6xXxbMZT5y",
   "metadata": {
    "colab": {
     "base_uri": "https://localhost:8080/",
     "height": 607
    },
    "executionInfo": {
     "elapsed": 29332,
     "status": "ok",
     "timestamp": 1753466589127,
     "user": {
      "displayName": "Lillian Wang",
      "userId": "01820132309759340903"
     },
     "user_tz": 240
    },
    "id": "BT6xXxbMZT5y",
    "outputId": "0cf1912c-dcb7-4795-88c4-47fd64b2f77f"
   },
   "outputs": [],
   "source": [
    "# Azimuth over time (3s windows with 1.5s overlap)\n",
    "plt.figure(figsize=(8, 6))\n",
    "\n",
    "x_vals = []\n",
    "y_vals = []\n",
    "timestamps = []\n",
    "ind = 0\n",
    "while ind < duration:\n",
    "  timestamps.append((ind, ind+3))\n",
    "  ind += 3\n",
    "\n",
    "for timestamp in timestamps:\n",
    "  start, end = timestamp[0], timestamp[1]\n",
    "  azimuth, weights, *_ = spectrogram(file, s, s_B, framerate, start, end)\n",
    "  azimuth = azimuth.flatten()\n",
    "  weights = weights.flatten()\n",
    "\n",
    "  counts, peaks = absolute_peaks(azimuth, weights)\n",
    "  #peaks, x_kde, y_kde = kde_peaks(azimuth, weights)\n",
    "  #counts, peaks = histogram_peaks(azimuth, weights)\n",
    "\n",
    "  for peak in peaks:\n",
    "    x_vals.append(start)\n",
    "    y_vals.append(peak)\n",
    "\n",
    "plt.scatter(x_vals, y_vals, alpha=.75, color='b')\n",
    "plt.ylim(-np.pi, np.pi)\n",
    "plt.grid(True)\n",
    "\n",
    "plt.title('Azimuth over time')\n",
    "plt.xlabel('Time (s)')\n",
    "plt.ylabel('Azimuth')\n",
    "\n",
    "plt.tight_layout()\n",
    "plt.savefig('time-vs-azimuth-scatter.png', dpi=200)\n",
    "plt.show()\n"
   ]
  },
  {
   "cell_type": "code",
   "execution_count": null,
   "id": "Tone6a0o9FUl",
   "metadata": {
    "colab": {
     "base_uri": "https://localhost:8080/",
     "height": 571
    },
    "executionInfo": {
     "elapsed": 9445,
     "status": "ok",
     "timestamp": 1753466598532,
     "user": {
      "displayName": "Lillian Wang",
      "userId": "01820132309759340903"
     },
     "user_tz": 240
    },
    "id": "Tone6a0o9FUl",
    "outputId": "e3d34489-ba74-4d11-a11b-94714edc8076"
   },
   "outputs": [],
   "source": [
    "# Azigram over time\n",
    "azimuth, weights, freqs, hist, azim_edges, time_edges, log_hist = spectrogram(file, s, s_B, framerate, 10, 600)\n",
    "\n",
    "#log_hist = np.log(hist + 1e-6 * np.ones(hist.shape))\n",
    "fig_hist, ax_hist = plt.subplots(1, 1, figsize=(14, 6))\n",
    "ax_hist.pcolormesh(time_edges[0:-1], 180/np.pi * azim_edges[0:-1], log_hist, cmap='turbo')\n",
    "ax_hist.set_xlim([10, 20])\n",
    "ax_hist.set_ylim([-180, 180])\n",
    "\n",
    "ax_hist.set_title('Histogram over azimuth and time', fontsize=16)\n",
    "ax_hist.set_xlabel('Time (sec)', fontsize=14)\n",
    "ax_hist.set_ylabel('Azimuth (degrees)', fontsize=14)\n",
    "\n",
    "fig_hist.savefig('time-vs-azigram.png', dpi=200)"
   ]
  },
  {
   "cell_type": "code",
   "execution_count": null,
   "id": "-B2AXGHHCcLl",
   "metadata": {
    "colab": {
     "base_uri": "https://localhost:8080/",
     "height": 725
    },
    "executionInfo": {
     "elapsed": 6873,
     "status": "ok",
     "timestamp": 1753466605364,
     "user": {
      "displayName": "Lillian Wang",
      "userId": "01820132309759340903"
     },
     "user_tz": 240
    },
    "id": "-B2AXGHHCcLl",
    "outputId": "6cfae202-42a5-4b61-bc67-97742e26749f"
   },
   "outputs": [],
   "source": [
    "# Unweighted cumulative polar plot\n",
    "plt.figure(figsize=(8, 8))\n",
    "\n",
    "azimuth, *_ = spectrogram(file, s, s_B, framerate, 10, 600)\n",
    "counts, bin_edges = np.histogram(azimuth.flatten(), bins=bin_num)\n",
    "bin_centers = 0.5*(bin_edges[1:]+bin_edges[:-1])\n",
    "\n",
    "ax = plt.subplot(1, 1, 1, polar=True)\n",
    "ax.plot(bin_centers, counts, color='b')\n",
    "\n",
    "ax.set_title('Unweighted azimuth')\n",
    "ax.set_xlabel('Azimuth (degrees)')\n",
    "\n",
    "plt.savefig('polar-unweighted-azimuth.png', dpi=200)\n",
    "plt.show()\n"
   ]
  },
  {
   "cell_type": "code",
   "execution_count": null,
   "id": "47ddcb4e",
   "metadata": {},
   "outputs": [],
   "source": [
    "# Weighted cumulative polar plot\n",
    "plt.figure(figsize=(8, 8))\n",
    "\n",
    "azimuth, weights, *_ = spectrogram(file, s, s_B, framerate, 10, 600)\n",
    "counts, bin_edges = np.histogram(azimuth.flatten(), weights=weights.flatten(), bins=bin_num)\n",
    "bin_centers = 0.5*(bin_edges[1:]+bin_edges[:-1])\n",
    "\n",
    "ax = plt.subplot(1, 1, 1, polar=True)\n",
    "ax.plot(bin_centers, counts, color='b')\n",
    "\n",
    "ax.set_title('Weighted azimuth')\n",
    "ax.set_xlabel('Azimuth (degrees)')\n",
    "\n",
    "plt.savefig('polar-weighted-azimuth.png', dpi=200)\n",
    "plt.show()\n"
   ]
  },
  {
   "cell_type": "code",
   "execution_count": null,
   "id": "H_mfBCXCRNoX",
   "metadata": {
    "id": "H_mfBCXCRNoX"
   },
   "outputs": [],
   "source": [
    "# # Azimuth animation over time\n",
    "# fig = plt.figure(figsize=(8, 8))\n",
    "# ax = plt.subplot(1, 1, 1, polar=True)\n",
    "# ax.set_title('Weighted azimuth', pad=30)\n",
    "# ax.set_xlabel('Azimuth (radians)')\n",
    "\n",
    "# azimuth, weights, *_ = spectrogram(file, s, s_B, framerate, 9, 10)\n",
    "# counts, bin_edges = np.histogram(azimuth.flatten(), weights=weights.flatten(), bins=bin_num)\n",
    "# bin_centers = 0.5 * (bin_edges[1:] + bin_edges[:-1])\n",
    "\n",
    "# line, = ax.plot(bin_centers, counts)\n",
    "\n",
    "# timestamps = []\n",
    "# ind = 10\n",
    "# step = 2\n",
    "# while ind < duration:\n",
    "#   timestamps.append((ind, ind+step))\n",
    "#   ind += step//2\n",
    "\n",
    "# azihist = []\n",
    "# for start, end in timestamps:\n",
    "#   azimuth, weights, *_ = spectrogram(file, s, s_B, framerate, start, end)\n",
    "#   counts, bin_edges = np.histogram(azimuth.flatten(), weights=weights.flatten(), bins=bin_num)\n",
    "#   bin_centers = 0.5 * (bin_edges[1:] + bin_edges[:-1])\n",
    "#   azihist.append((bin_centers, counts))\n",
    "\n",
    "# def update(frame):\n",
    "#     line.set_data(azihist[frame][0], azihist[frame][1])\n",
    "#     ax.set_ylim(0, azihist[frame][1].max()*1.05)\n",
    "#     ax.set_title(f'Azimuth\\n{timestamps[frame][0]}s', pad=30)\n",
    "#     return line,\n",
    "\n",
    "# ani = FuncAnimation(fig, update, frames=len(timestamps),\n",
    "#                     blit=False, interval=5000, repeat=False)\n",
    "\n",
    "# ani.save('animation.mp4', fps=1, dpi=200)\n",
    "# plt.show()\n"
   ]
  }
 ],
 "metadata": {
  "colab": {
   "provenance": [
    {
     "file_id": "1o7pZ6lN8B5lMRCDYhVSEtHMYxR8cz7p3",
     "timestamp": 1750444565896
    }
   ]
  },
  "kernelspec": {
   "display_name": "base",
   "language": "python",
   "name": "python3"
  },
  "language_info": {
   "codemirror_mode": {
    "name": "ipython",
    "version": 3
   },
   "file_extension": ".py",
   "mimetype": "text/x-python",
   "name": "python",
   "nbconvert_exporter": "python",
   "pygments_lexer": "ipython3",
   "version": "3.12.4"
  }
 },
 "nbformat": 4,
 "nbformat_minor": 5
}
