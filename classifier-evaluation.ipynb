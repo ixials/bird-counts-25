{
 "cells": [
  {
   "cell_type": "code",
   "execution_count": null,
   "metadata": {
    "colab": {
     "base_uri": "https://localhost:8080/"
    },
    "executionInfo": {
     "elapsed": 6869,
     "status": "ok",
     "timestamp": 1755303705266,
     "user": {
      "displayName": "Lillian Wang",
      "userId": "01820132309759340903"
     },
     "user_tz": 240
    },
    "id": "hYwsvFlVksI6",
    "outputId": "a418ecaf-55c2-4a36-c353-808e4c3de7d8"
   },
   "outputs": [],
   "source": [
    "import os\n",
    "import pandas as pd\n",
    "import numpy as np\n",
    "from matplotlib import pyplot as plt\n",
    "import seaborn as sns\n",
    "from sklearn.metrics import roc_curve, auc\n",
    "from natsort import natsorted"
   ]
  },
  {
   "cell_type": "code",
   "execution_count": null,
   "metadata": {
    "executionInfo": {
     "elapsed": 3,
     "status": "ok",
     "timestamp": 1755303705281,
     "user": {
      "displayName": "Lillian Wang",
      "userId": "01820132309759340903"
     },
     "user_tz": 240
    },
    "id": "oh_A0iUbAD34"
   },
   "outputs": [],
   "source": [
    "# Setting parameters\n",
    "recordings = 26\n",
    "dir = '/Users/lillianwang/Documents/bird-counts-25/'\n",
    "birdnet_dir = dir+'data/birdnet/'\n",
    "ebird_dir = dir+'data/ebird/'"
   ]
  },
  {
   "cell_type": "code",
   "execution_count": null,
   "metadata": {},
   "outputs": [],
   "source": [
    "def load_data(dir):\n",
    "    files = natsorted([f for f in os.listdir(dir) if f.endswith('.csv')])\n",
    "    dfs = []\n",
    "    for i, file in enumerate(files):\n",
    "        df = pd.read_csv(dir+file, encoding='latin1')\n",
    "        df['Recording'] = i+1\n",
    "        dfs.append(df)\n",
    "    return dfs"
   ]
  },
  {
   "cell_type": "code",
   "execution_count": null,
   "metadata": {},
   "outputs": [],
   "source": [
    "# Read data\n",
    "birdnet_dfs = load_data(birdnet_dir)\n",
    "ebird_dfs = load_data(ebird_dir)\n",
    "\n",
    "# Strip durations to digits\n",
    "def extract_numbers(text):\n",
    "    return ''.join(filter(str.isdigit, text))\n",
    "    \n",
    "for ebird_df, birdnet_df in zip(ebird_dfs, birdnet_dfs):\n",
    "    if not ebird_df.empty:\n",
    "        birdnet_df['Duration'] = ebird_df['Duration'].apply(extract_numbers)\n",
    "        ebird_df['Duration'] = ebird_df['Duration'].apply(extract_numbers)\n",
    "\n",
    "combined_birdnet = pd.concat(birdnet_dfs)\n",
    "combined_ebird = pd.concat(ebird_dfs)"
   ]
  },
  {
   "cell_type": "code",
   "execution_count": null,
   "metadata": {
    "executionInfo": {
     "elapsed": 39,
     "status": "ok",
     "timestamp": 1755303705832,
     "user": {
      "displayName": "Lillian Wang",
      "userId": "01820132309759340903"
     },
     "user_tz": 240
    },
    "id": "Kpol-mCoL5n9"
   },
   "outputs": [],
   "source": [
    "# Correcting inconsistent common names\n",
    "name_corrections = {\n",
    "    'Eastern Towhee (Red-eyed)': 'Eastern Towhee',\n",
    "    'Song Sparrow (melodia/atlantica)': 'Song Sparrow',\n",
    "    'Yellow Warbler (Northern)': 'Yellow Warbler',\n",
    "    'Northern House Wren (Northern)': 'House Wren',\n",
    "    'Red-winged Blackbird (Red-winged)': 'Red-winged Blackbird',\n",
    "    'Common Grackle (Bronzed)': 'Common Grackle',\n",
    "    'Hairy Woodpecker (Eastern)': 'Hairy Woodpecker',\n",
    "    'Eastern Meadowlark (Eastern)': 'Eastern Meadowlark',\n",
    "    'Downy Woodpecker (Eastern)': 'Downy Woodpecker',\n",
    "    'Northern Cardinal (Northern)': 'Northern Cardinal',\n",
    "    'White-breasted Nuthatch (Eastern)': 'White-breasted Nuthatch',\n",
    "    'Northern Flicker (Yellow-shafted)': 'Northern Flicker'\n",
    "}\n",
    "\n",
    "for df in ebird_dfs:\n",
    "  df['Species'] = df['Species'].replace(name_corrections)\n",
    "\n",
    "combined_ebird['Species'] = combined_ebird['Species'].replace(name_corrections)"
   ]
  },
  {
   "cell_type": "code",
   "execution_count": null,
   "metadata": {
    "colab": {
     "base_uri": "https://localhost:8080/",
     "height": 1000
    },
    "collapsed": true,
    "executionInfo": {
     "elapsed": 10527,
     "status": "ok",
     "timestamp": 1755304725652,
     "user": {
      "displayName": "Lillian Wang",
      "userId": "01820132309759340903"
     },
     "user_tz": 240
    },
    "id": "iEDWZpERGA4b",
    "outputId": "6647bd4f-15f1-4381-9e01-413eeffd5cb1"
   },
   "outputs": [],
   "source": [
    "# Boxplots of confidence score by species\n",
    "fig, axes = plt.subplots(nrows=recordings, ncols=1, figsize=(8, recordings*5))\n",
    "\n",
    "for i in range(recordings):\n",
    "  filtered_df = birdnet_dfs[i].groupby('Common name').filter(lambda x: len(x) >= 3)\n",
    "  true_pos = set(ebird_dfs[i]['Species'])\n",
    "  birdnet_species = set(filtered_df['Common name'])\n",
    "  color_map = { sp: ('b' if sp in true_pos else 'r') for sp in birdnet_species }\n",
    "\n",
    "  sns.boxplot(data=filtered_df, ax=axes[i], x='Common name', y='Confidence', hue='Common name', palette=color_map)\n",
    "  axes[i].tick_params(rotation=45, labelsize=7.5)\n",
    "  axes[i].grid(True)\n",
    "\n",
    "  axes[i].set_title(f'Confidence score distribution by species ({i+1})')\n",
    "\n",
    "plt.tight_layout()\n",
    "plt.savefig('confidence-boxplots.png', dpi=200)\n",
    "plt.show()"
   ]
  },
  {
   "cell_type": "code",
   "execution_count": null,
   "metadata": {
    "colab": {
     "base_uri": "https://localhost:8080/",
     "height": 472
    },
    "executionInfo": {
     "elapsed": 11,
     "status": "ok",
     "timestamp": 1755303725483,
     "user": {
      "displayName": "Lillian Wang",
      "userId": "01820132309759340903"
     },
     "user_tz": 240
    },
    "id": "bnwLX5bPInxj",
    "outputId": "61537b69-aa51-4e84-b121-61b6edfe83a2"
   },
   "outputs": [],
   "source": [
    "# Histogram of confidence scores across all recordings\n",
    "sns.histplot(combined_birdnet['Confidence'], bins=20, binrange=(.25, 1), kde=True, color='b')\n",
    "plt.grid(True)\n",
    "\n",
    "plt.title('Confidence score distribution')\n",
    "plt.xlabel('Confidence')\n",
    "plt.ylabel('Occurrences')\n",
    "\n",
    "plt.savefig('confidence-histogram.png', dpi=200)\n",
    "plt.show()"
   ]
  },
  {
   "cell_type": "code",
   "execution_count": null,
   "metadata": {
    "colab": {
     "base_uri": "https://localhost:8080/",
     "height": 472
    },
    "executionInfo": {
     "elapsed": 261,
     "status": "ok",
     "timestamp": 1755303725746,
     "user": {
      "displayName": "Lillian Wang",
      "userId": "01820132309759340903"
     },
     "user_tz": 240
    },
    "id": "evCCeaYxKiWF",
    "outputId": "17a76d11-966d-497e-8bb2-15b0aa983a90"
   },
   "outputs": [],
   "source": [
    "# ROC curve across all recordings\n",
    "y_true = []\n",
    "y_scores = []\n",
    "\n",
    "for i in range(recordings):\n",
    "    ebird_species = set(ebird_dfs[i]['Species'])\n",
    "    birdnet_species = set(birdnet_dfs[i]['Common name'])\n",
    "    total_species = ebird_species.union(birdnet_species)\n",
    "\n",
    "    for species in total_species:\n",
    "        if not isinstance(species, str):\n",
    "          continue\n",
    "        \n",
    "        y_true.append(1 if species in ebird_species and birdnet_species else 0)\n",
    "\n",
    "        # Highest BirdNET confidence score for that species\n",
    "        species_rows = birdnet_dfs[i][birdnet_dfs[i]['Common name'] == species]\n",
    "        if species in birdnet_species:\n",
    "          confidence = species_rows['Confidence'].max()\n",
    "        else:\n",
    "          confidence = 0.0\n",
    "        y_scores.append(confidence)\n",
    "\n",
    "# From StackExchange\n",
    "fpr, tpr, thresholds = roc_curve(y_true, y_scores)\n",
    "roc_auc = auc(fpr, tpr)\n",
    "\n",
    "plt.plot(fpr, tpr, 'b', label = 'AUC = %0.2f' % roc_auc)\n",
    "plt.plot([0, 1], [0, 1],'r--')\n",
    "plt.xlim([0, 1])\n",
    "plt.ylim([0, 1])\n",
    "plt.legend(loc = 'lower right')\n",
    "plt.grid(True)\n",
    "\n",
    "plt.title('ROC curve')\n",
    "plt.ylabel('True positive rate')\n",
    "plt.xlabel('False positive rate')\n",
    "\n",
    "\n",
    "plt.savefig('roc-curve.png', dpi=200)\n",
    "plt.show()"
   ]
  },
  {
   "cell_type": "code",
   "execution_count": null,
   "metadata": {
    "colab": {
     "base_uri": "https://localhost:8080/",
     "height": 452
    },
    "executionInfo": {
     "elapsed": 122,
     "status": "ok",
     "timestamp": 1755304764410,
     "user": {
      "displayName": "Lillian Wang",
      "userId": "01820132309759340903"
     },
     "user_tz": 240
    },
    "id": "7pRe3krmI5Ku",
    "outputId": "49c89c09-f8f9-4ae7-9c1f-df522e9118e7"
   },
   "outputs": [],
   "source": [
    "# True pos, false pos, and false neg counts across all recordings\n",
    "true_pos = 0\n",
    "false_pos = 0\n",
    "false_neg = 0\n",
    "\n",
    "# Loop through recordings\n",
    "for i in range(recordings):\n",
    "    ebird_species = set(ebird_dfs[i]['Species'])\n",
    "    birdnet_species = set(birdnet_dfs[i]['Common name'])\n",
    "    total_species = ebird_species.union(birdnet_species)\n",
    "\n",
    "    # Add to true pos, false pos, and false neg counts\n",
    "    for species in total_species:\n",
    "        if species in ebird_species and species in birdnet_species:\n",
    "          true_pos += 1\n",
    "        elif species in ebird_species and species not in birdnet_species:\n",
    "          false_neg += 1\n",
    "        elif species not in ebird_species and species in birdnet_species:\n",
    "          false_pos += 1\n",
    "\n",
    "plt.bar(['True positives', 'False positives', 'False negatives'], [true_pos, false_pos, false_neg], color=['g', 'b', 'r'])\n",
    "plt.grid(True)\n",
    "\n",
    "plt.title('True pos, false pos, and false neg')\n",
    "\n",
    "plt.savefig('confusion-bar.png', dpi=200)\n",
    "plt.show()"
   ]
  }
 ],
 "metadata": {
  "colab": {
   "authorship_tag": "ABX9TyNm+2Yrrv9NjiC16ENniQiu",
   "provenance": []
  },
  "kernelspec": {
   "display_name": "base",
   "language": "python",
   "name": "python3"
  },
  "language_info": {
   "codemirror_mode": {
    "name": "ipython",
    "version": 3
   },
   "file_extension": ".py",
   "mimetype": "text/x-python",
   "name": "python",
   "nbconvert_exporter": "python",
   "pygments_lexer": "ipython3",
   "version": "3.12.4"
  }
 },
 "nbformat": 4,
 "nbformat_minor": 0
}
