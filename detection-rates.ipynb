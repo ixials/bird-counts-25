{
 "cells": [
  {
   "cell_type": "code",
   "execution_count": null,
   "metadata": {
    "colab": {
     "base_uri": "https://localhost:8080/"
    },
    "id": "hYwsvFlVksI6",
    "outputId": "9305bef9-6940-4be0-ab45-0410e9e43198"
   },
   "outputs": [],
   "source": [
    "import os\n",
    "import pandas as pd\n",
    "import numpy as np\n",
    "from matplotlib import pyplot as plt\n",
    "import seaborn as sns\n",
    "from adjustText import adjust_text\n",
    "from scipy.stats import spearmanr, pearsonr"
   ]
  },
  {
   "cell_type": "code",
   "execution_count": null,
   "metadata": {
    "id": "8XB2yqlgVXI4"
   },
   "outputs": [],
   "source": [
    "# Setting parameters\n",
    "recordings = 26\n",
    "dir = '/Users/lillianwang/Documents/bird-counts-25/'\n",
    "birdnet_dir = dir+'data/birdnet/'\n",
    "ebird_dir = dir+'data/ebird/'"
   ]
  },
  {
   "cell_type": "code",
   "execution_count": null,
   "metadata": {
    "id": "KzW_ShxLyQy1"
   },
   "outputs": [],
   "source": [
    "def load_data(dir):\n",
    "    files = sorted([f for f in os.listdir(dir) if f.endswith('.csv')])\n",
    "    dfs = []\n",
    "    for i, file in enumerate(files):\n",
    "        df = pd.read_csv(dir+file, encoding=\"latin1\")\n",
    "        df['Recording'] = i+1\n",
    "        dfs.append(df)\n",
    "    return dfs"
   ]
  },
  {
   "cell_type": "code",
   "execution_count": null,
   "metadata": {
    "colab": {
     "base_uri": "https://localhost:8080/",
     "height": 332
    },
    "id": "1vt6VY-RuCVh",
    "outputId": "0ee1de25-7090-4913-e348-b844c105f048"
   },
   "outputs": [],
   "source": [
    "# Read data\n",
    "birdnet_dfs = load_data(birdnet_dir)\n",
    "ebird_dfs = load_data(ebird_dir)\n",
    "\n",
    "# Strip durations to digits\n",
    "def extract_numbers(text):\n",
    "    return ''.join(filter(str.isdigit, text))\n",
    "    \n",
    "for ebird_df, birdnet_df in zip(ebird_dfs, birdnet_dfs):\n",
    "    if not ebird_df.empty:\n",
    "        birdnet_df['Duration'] = ebird_df['Duration'].apply(extract_numbers)\n",
    "        ebird_df['Duration'] = ebird_df['Duration'].apply(extract_numbers)\n",
    "\n",
    "combined_birdnet = pd.concat(birdnet_dfs)\n",
    "combined_ebird = pd.concat(ebird_dfs)"
   ]
  },
  {
   "cell_type": "code",
   "execution_count": null,
   "metadata": {
    "id": "Kpol-mCoL5n9"
   },
   "outputs": [],
   "source": [
    "# Correcting inconsistent common names\n",
    "name_corrections = {\n",
    "    'Eastern Towhee (Red-eyed)': 'Eastern Towhee',\n",
    "    'Song Sparrow (melodia/atlantica)': 'Song Sparrow',\n",
    "    'Yellow Warbler (Northern)': 'Yellow Warbler',\n",
    "    'Northern House Wren (Northern)': 'House Wren',\n",
    "    'Red-winged Blackbird (Red-winged)': 'Red-winged Blackbird',\n",
    "    'Common Grackle (Bronzed)': 'Common Grackle',\n",
    "    'Hairy Woodpecker (Eastern)': 'Hairy Woodpecker',\n",
    "    'Eastern Meadowlark (Eastern)': 'Eastern Meadowlark',\n",
    "    'Downy Woodpecker (Eastern)': 'Downy Woodpecker',\n",
    "    'Northern Cardinal (Northern)': 'Northern Cardinal',\n",
    "    'White-breasted Nuthatch (Eastern)': 'White-breasted Nuthatch',\n",
    "    'Northern Flicker (Yellow-shafted)': 'Northern Flicker'\n",
    "}\n",
    "\n",
    "for df in ebird_dfs:\n",
    "  df['Species'] = df['Species'].replace(name_corrections)\n",
    "\n",
    "combined_ebird['Species'] = combined_ebird['Species'].replace(name_corrections)"
   ]
  },
  {
   "cell_type": "markdown",
   "metadata": {
    "id": "qvtci61nfFqE"
   },
   "source": [
    "## Filters"
   ]
  },
  {
   "cell_type": "code",
   "execution_count": null,
   "metadata": {
    "id": "M_iazo38d8Di"
   },
   "outputs": [],
   "source": [
    "def filter_data(df):\n",
    "  data_points = df['Species'].value_counts()\n",
    "  filtered_data = df[df['Species'].isin(data_points[data_points > 2].index)]\n",
    "  return filtered_data"
   ]
  },
  {
   "cell_type": "code",
   "execution_count": null,
   "metadata": {
    "id": "ehcnMyy0dMed"
   },
   "outputs": [],
   "source": [
    "def remove_outliers(df):\n",
    "    def filter_group(group):\n",
    "        q_low = group['Detection rate'].quantile(0.025)\n",
    "        q_high = group['Detection rate'].quantile(0.975)\n",
    "        return group[(group['Detection rate'] > q_low) & (group['Detection rate'] < q_high)]\n",
    "\n",
    "    return df.groupby('Species').apply(filter_group)"
   ]
  },
  {
   "cell_type": "code",
   "execution_count": null,
   "metadata": {
    "id": "-vFedcQGaKPl"
   },
   "outputs": [],
   "source": [
    "# Find species with at least one detection and entry in the same recording\n",
    "true_pos_list = []\n",
    "\n",
    "for i in range(recordings):\n",
    "  birdnet_species = set(birdnet_dfs[i]['Common name'])\n",
    "  ebird_species = set(ebird_dfs[i]['Species'])\n",
    "  true_pos_list.append(birdnet_species & ebird_species)\n",
    "\n",
    "true_pos_list_flat = [item for sublist in true_pos_list for item in sublist]\n",
    "true_pos = list(set(true_pos_list_flat))"
   ]
  },
  {
   "cell_type": "markdown",
   "metadata": {
    "id": "lwRF9nnEyb_f"
   },
   "source": [
    "## Detection rates"
   ]
  },
  {
   "cell_type": "code",
   "execution_count": null,
   "metadata": {
    "id": "G0WLf-qzurWB"
   },
   "outputs": [],
   "source": [
    "# Detections vs. count by recording\n",
    "plt.figure(figsize=(8, 6))\n",
    "\n",
    "total_detections = []\n",
    "total_count = []\n",
    "\n",
    "for i in range(recordings):\n",
    "    detections_count = len(birdnet_dfs[i])\n",
    "    duration = int(ebird_dfs[i]['Duration'].drop_duplicates().sum())\n",
    "    total_detections.append(detections_count/duration)\n",
    "\n",
    "for i in range(recordings):\n",
    "    count = ebird_dfs[i]['Count'].sum()\n",
    "    total_count.append(count)\n",
    "\n",
    "plt.plot(range(recordings), total_count, label='Count', color='b')\n",
    "plt.plot(range(recordings), total_detections, label='Detections', color='r')\n",
    "\n",
    "plt.title('Detections vs. count')\n",
    "plt.xlabel('Recording')\n",
    "plt.legend()\n",
    "plt.grid(True)\n",
    "\n",
    "plt.tight_layout()\n",
    "plt.savefig('detections-vs-count.png', dpi=200)\n",
    "plt.show()\n"
   ]
  },
  {
   "cell_type": "code",
   "execution_count": null,
   "metadata": {
    "id": "uof1fvP629qh"
   },
   "outputs": [],
   "source": [
    "# Detections\n",
    "plt.figure(figsize=(8, 6))\n",
    "\n",
    "x_vals = []\n",
    "y_vals = []\n",
    "labels = []\n",
    "\n",
    "for species in true_pos:\n",
    "  detections_rows = combined_birdnet[combined_birdnet['Common name'] == species]\n",
    "  total_detections = len(detections_rows)\n",
    "  individuals_rows = combined_ebird[combined_ebird['Species'] == species]\n",
    "  total_count = individuals_rows['Count'].sum()\n",
    "\n",
    "  x_vals.append(total_detections)\n",
    "  y_vals.append(total_count)\n",
    "  labels.append(species)\n",
    "\n",
    "plt.scatter(x_vals, y_vals, color='b')\n",
    "\n",
    "texts = []\n",
    "for i, label in enumerate(labels):\n",
    "    texts.append(plt.text(x_vals[i], y_vals[i], label, fontsize=8))\n",
    "adjust_text(texts, arrowprops=dict(arrowstyle='-', lw=0.5), force_text=1)\n",
    "\n",
    "plt.title('Detection rate by species')\n",
    "plt.xlabel('Detections')\n",
    "plt.ylabel('Count')\n",
    "plt.grid(True)\n",
    "\n",
    "plt.tight_layout()\n",
    "plt.savefig('detections-all-species.png', dpi=200)\n",
    "plt.show()\n"
   ]
  },
  {
   "cell_type": "code",
   "execution_count": null,
   "metadata": {
    "id": "QG80RyTHIx1p"
   },
   "outputs": [],
   "source": [
    "# Detection rates (normalized by min)\n",
    "plt.figure(figsize=(8, 6))\n",
    "\n",
    "x_vals = []\n",
    "y_vals = []\n",
    "labels = []\n",
    "\n",
    "for species in true_pos:\n",
    "  detections_rows = combined_birdnet[combined_birdnet['Common name'] == species]\n",
    "  total_detections = len(detections_rows)\n",
    "  present_recordings = set(detections_rows['Recording'])\n",
    "  total_duration = 0\n",
    "\n",
    "  for recording in present_recordings:\n",
    "     var = combined_ebird[combined_ebird['Recording'] == recording]\n",
    "     total_duration += int(var['Duration'].drop_duplicates().sum())\n",
    "\n",
    "  detection_rate = total_detections/total_duration\n",
    "\n",
    "  individuals_rows = combined_ebird[combined_ebird['Species'] == species]\n",
    "  total_count = individuals_rows['Count'].sum()\n",
    "\n",
    "  x_vals.append(detection_rate)\n",
    "  y_vals.append(total_count)\n",
    "  labels.append(species)\n",
    "\n",
    "plt.scatter(x_vals, y_vals, color='b')\n",
    "\n",
    "texts = []\n",
    "for i, label in enumerate(labels):\n",
    "    texts.append(plt.text(x_vals[i], y_vals[i], label, fontsize=8))\n",
    "adjust_text(texts, arrowprops=dict(arrowstyle='-', lw=0.5), force_text=1)\n",
    "\n",
    "plt.title('Detection rate by species (normalized by min)')\n",
    "plt.xlabel('Detections/min')\n",
    "plt.ylabel('Count')\n",
    "plt.grid(True)\n",
    "\n",
    "plt.tight_layout()\n",
    "plt.savefig('detection-rate-all-species.png', dpi=200)\n",
    "plt.show()\n"
   ]
  },
  {
   "cell_type": "code",
   "execution_count": null,
   "metadata": {
    "id": "uZCRqZSUyGlR"
   },
   "outputs": [],
   "source": [
    "# Scatterplots and regressions of detection rates by species\n",
    "fig, axes = plt.subplots(nrows=len(true_pos), ncols=1, figsize=(8, len(true_pos)*2.5))\n",
    "\n",
    "for i, species in enumerate(true_pos):\n",
    "  x_vals = []\n",
    "  y_vals = []\n",
    "  labels = []\n",
    "  colors = []\n",
    "\n",
    "  detections_rows = combined_birdnet[combined_birdnet['Common name'] == species]\n",
    "  present_recordings = set(detections_rows['Recording'])\n",
    "\n",
    "  for recording in present_recordings:\n",
    "    ebird_rows = combined_ebird[combined_ebird['Recording'] == recording]\n",
    "    count = ebird_rows[ebird_rows['Species'] == species]['Count'].sum()\n",
    "\n",
    "    birdnet_rows = combined_birdnet[combined_birdnet['Recording'] == recording]\n",
    "    num_detections = len(birdnet_rows[birdnet_rows['Common name'] == species])\n",
    "    recording_length = int(ebird_rows['Duration'].drop_duplicates().sum())\n",
    "\n",
    "    detection_rate = num_detections/recording_length\n",
    "    total_confidence = birdnet_rows[birdnet_rows['Common name'] == species]['Confidence'].sum()\n",
    "\n",
    "    x_vals.append(detection_rate)\n",
    "    y_vals.append(count)\n",
    "    labels.append(recording)\n",
    "    colors.append(total_confidence)\n",
    "\n",
    "  axes[i].scatter(x_vals, y_vals, c=colors, cmap='viridis')\n",
    "  for x, y, label in zip(x_vals, y_vals, labels):\n",
    "    axes[i].annotate(label, (x,y), textcoords='offset points', xytext=(5,5))\n",
    "\n",
    "  axes[i].set_title('BirdNET detections/min vs count: '+species)\n",
    "  axes[i].set_xlabel('Detections/min')\n",
    "  axes[i].set_ylabel('Count')\n",
    "  axes[i].set_xlim(0, max(x_vals)+0.5)\n",
    "  axes[i].set_ylim(0, max(y_vals)+0.5)\n",
    "\n",
    "  # Plot regression lines\n",
    "  # b, a = np.polyfit(x_vals, y_vals, deg=1)\n",
    "  # xseq = np.linspace(0, 10, num=100)\n",
    "  # axes[i].plot(xseq, a + b * xseq, lw=0.5)\n",
    "\n",
    "  # # b, a = np.polyfit(np.log(x_vals), y_vals, deg=1)\n",
    "  # # xseq = np.linspace(0, 10, num=100)\n",
    "  # xseq_log = np.log(xseq)\n",
    "  # axes[i].plot(xseq, a + b * xseq_log, lw=0.5)\n",
    "\n",
    "plt.tight_layout()\n",
    "plt.savefig('detection-rate-by-species.png', dpi=200)\n",
    "plt.show()\n"
   ]
  },
  {
   "cell_type": "code",
   "execution_count": null,
   "metadata": {
    "id": "FN5-xzV0-AgY"
   },
   "outputs": [],
   "source": [
    "# Scatterplots and regressions of confidence rates by species\n",
    "fig, axes = plt.subplots(nrows=len(true_pos), ncols=1, figsize=(8, len(true_pos)*2.5))\n",
    "\n",
    "for i, species in enumerate(true_pos):\n",
    "  x_vals = []\n",
    "  y_vals = []\n",
    "  labels = []\n",
    "\n",
    "  detections_rows = combined_birdnet[combined_birdnet['Common name'] == species]\n",
    "  present_recordings = set(detections_rows['Recording'])\n",
    "\n",
    "  for recording in present_recordings:\n",
    "    ebird_rows = combined_ebird[combined_ebird['Recording'] == recording]\n",
    "    count = ebird_rows[ebird_rows['Species'] == species]['Count'].sum()\n",
    "\n",
    "    birdnet_rows = combined_birdnet[combined_birdnet['Recording'] == recording]\n",
    "    total_confidence = birdnet_rows[birdnet_rows['Common name'] == species]['Confidence'].sum()\n",
    "\n",
    "    x_vals.append(total_confidence)\n",
    "    y_vals.append(count)\n",
    "    labels.append(recording)\n",
    "\n",
    "  axes[i].scatter(x_vals, y_vals, color='skyblue')\n",
    "  for x, y, label in zip(x_vals, y_vals, labels):\n",
    "    axes[i].annotate(label, (x, y), xytext=(5, 5), textcoords='offset points', ha='left')\n",
    "\n",
    "  axes[i].set_title('Total confidence vs count: '+species)\n",
    "  axes[i].set_xlabel('Total confidence')\n",
    "  axes[i].set_ylabel('Count')\n",
    "  axes[i].set_xlim(0, max(x_vals)*1.25)\n",
    "  axes[i].set_ylim(0, max(y_vals)*1.25)\n",
    "\n",
    "  # Plot regression lines\n",
    "  # b, a = np.polyfit(x_vals, y_vals, deg=1)\n",
    "  # xseq = np.linspace(0, 10, num=100)\n",
    "  # axes[i].plot(xseq, a + b * xseq, lw=0.5)\n",
    "\n",
    "  # b, a = np.polyfit(np.log(x_vals), y_vals, deg=1)\n",
    "  # xseq = np.linspace(0, 10, num=100)\n",
    "  # xseq_log = np.log(xseq)\n",
    "  # axes[i].plot(xseq, a + b * xseq_log, lw=0.5)\n",
    "\n",
    "plt.tight_layout()\n",
    "plt.savefig('confidence-rate-by-species.png', dpi=200)\n",
    "plt.show()\n"
   ]
  },
  {
   "cell_type": "code",
   "execution_count": null,
   "metadata": {
    "id": "XlQqSxvlfx4N"
   },
   "outputs": [],
   "source": [
    "# Detection rate boxplots\n",
    "fig, axes = plt.subplots(nrows=len(true_pos), ncols=1, figsize=(8, len(true_pos)*2.5))\n",
    "\n",
    "for i, species in enumerate(true_pos):\n",
    " detections_rows = combined_birdnet[combined_birdnet['Common name'] == species]\n",
    " present_recordings = set(detections_rows['Recording'])\n",
    "\n",
    " detection_rates = []\n",
    " total_detections = 0\n",
    " total_count = 0\n",
    "\n",
    " for recording in present_recordings:\n",
    "   ebird_rows = combined_ebird[combined_ebird['Recording'] == recording]\n",
    "   count = ebird_rows[ebird_rows['Species'] == species]['Count'].sum()\n",
    "\n",
    "   birdnet_rows = combined_birdnet[combined_birdnet['Recording'] == recording]\n",
    "   num_detections = len(birdnet_rows[birdnet_rows['Common name'] == species])\n",
    "\n",
    "   recording_length = int(ebird_rows['Duration'].drop_duplicates().sum())\n",
    "   if count == 0:\n",
    "    continue\n",
    "   detection_rate = num_detections/(recording_length * count)\n",
    "\n",
    "   detection_rates.append(detection_rate)\n",
    "   total_detections += num_detections\n",
    "   total_count += count\n",
    "\n",
    " sns.boxplot(ax=axes[i], x=detection_rates, color='skyblue')\n",
    " ci = 1.96*np.std(detection_rates)/np.sqrt(len(detection_rates))\n",
    " axes[i].errorbar(np.mean(detection_rates), 0, c='b', xerr=ci, fmt='o', capsize=5)\n",
    " axes[i].text(np.mean(detection_rates)+ci, 0, str(np.round(np.mean(detection_rates)+ci, 3)))\n",
    " axes[i].text(np.mean(detection_rates)-ci, 0, str(np.round(np.mean(detection_rates)-ci, 3)))\n",
    " axes[i].tick_params(rotation=45, labelsize=7.5)\n",
    "\n",
    " axes[i].set_title(f'{species} detection rate\\n(Detections: {total_detections}, Count: {total_count})')\n",
    " axes[i].set_xlabel('Detection rate')\n",
    "\n",
    "plt.tight_layout()\n",
    "plt.savefig('detection-rate-boxplots.png', dpi=200)\n",
    "plt.show()"
   ]
  },
  {
   "cell_type": "code",
   "execution_count": null,
   "metadata": {
    "id": "ZQQ3vTt-SFlV"
   },
   "outputs": [],
   "source": [
    "# Detection rates swarm plots\n",
    "plt.figure(figsize=(8, len(true_pos)*0.5))\n",
    "\n",
    "swarm_data = []\n",
    "\n",
    "for i, species in enumerate(true_pos):\n",
    " detections_rows = combined_birdnet[combined_birdnet['Common name'] == species]\n",
    " present_recordings = set(detections_rows['Recording'])\n",
    "\n",
    " for recording in present_recordings:\n",
    "   ebird_rows = combined_ebird[combined_ebird['Recording'] == recording]\n",
    "   count = ebird_rows[ebird_rows['Species'] == species]['Count'].sum()\n",
    "\n",
    "   birdnet_rows = combined_birdnet[combined_birdnet['Recording'] == recording]\n",
    "   num_detections = len(birdnet_rows[birdnet_rows['Common name'] == species])\n",
    "\n",
    "   recording_length = int(ebird_rows['Duration'].drop_duplicates().sum())\n",
    "   if count == 0:\n",
    "    continue\n",
    "   detection_rate = num_detections/(recording_length * count)\n",
    "\n",
    "   swarm_data.append([species, detection_rate])\n",
    "\n",
    "swarm_df = pd.DataFrame(swarm_data, columns=['Species', 'Detection rate'])\n",
    "sns.swarmplot(data=swarm_df, x='Detection rate', y='Species', color='b', size=3)\n",
    "\n",
    "plt.title('Species detection rates (detections/individual/min)')\n",
    "plt.xlim(0, max(swarm_df['Detection rate'])*1.05)\n",
    "\n",
    "plt.tight_layout()\n",
    "plt.savefig('detection-rate-swarm.png', dpi=200)\n",
    "plt.show()"
   ]
  },
  {
   "cell_type": "code",
   "execution_count": null,
   "metadata": {
    "id": "tuYdWAy9cqzR"
   },
   "outputs": [],
   "source": [
    "# Detection rates violin plots\n",
    "plt.figure(figsize=(8, len(true_pos)*0.5))\n",
    "\n",
    "violin_data = []\n",
    "\n",
    "for i, species in enumerate(true_pos):\n",
    " detections_rows = combined_birdnet[combined_birdnet['Common name'] == species]\n",
    " present_recordings = set(detections_rows['Recording'])\n",
    "\n",
    " for recording in present_recordings:\n",
    "   ebird_rows = combined_ebird[combined_ebird['Recording'] == recording]\n",
    "   count = ebird_rows[ebird_rows['Species'] == species]['Count'].sum()\n",
    "\n",
    "   birdnet_rows = combined_birdnet[combined_birdnet['Recording'] == recording]\n",
    "   num_detections = len(birdnet_rows[birdnet_rows['Common name'] == species])\n",
    "\n",
    "   recording_length = int(ebird_rows['Duration'].drop_duplicates().sum())\n",
    "   if count == 0:\n",
    "    continue\n",
    "   detection_rate = num_detections/(recording_length * count)\n",
    "\n",
    "   violin_data.append([species, detection_rate])\n",
    "\n",
    "violin_df = pd.DataFrame(violin_data, columns=['Species', 'Detection rate'])\n",
    "violin_df = remove_outliers(violin_df)\n",
    "violin_df = filter_data(violin_df)\n",
    "sns.violinplot(data=violin_df, x='Detection rate', y='Species', color='skyblue')\n",
    "sns.swarmplot(data=violin_df, x='Detection rate', y='Species', color='b', size=3)\n",
    "\n",
    "plt.title('Species detection rates (detections/individual/min)')\n",
    "plt.xlim(0, max(violin_df['Detection rate'])*1.05)\n",
    "\n",
    "plt.tight_layout()\n",
    "plt.savefig('detection-rate-violin.png', dpi=200)\n",
    "plt.show()"
   ]
  },
  {
   "cell_type": "markdown",
   "metadata": {
    "id": "ocB6gJJRxvx1"
   },
   "source": [
    "## Statistical analysis"
   ]
  },
  {
   "cell_type": "code",
   "execution_count": null,
   "metadata": {
    "id": "pyWss9zBATHI"
   },
   "outputs": [],
   "source": [
    "# Pearson and Spearman metrics\n",
    "correlation_data = []\n",
    "\n",
    "for species in true_pos:\n",
    "    detections_rows = combined_birdnet[combined_birdnet['Common name'] == species]\n",
    "    present_recordings = set(detections_rows['Recording'])\n",
    "\n",
    "    for recording in present_recordings:\n",
    "        ebird_rows = combined_ebird[combined_ebird['Recording'] == recording]\n",
    "        count = ebird_rows[ebird_rows['Species'] == species]['Count'].sum()\n",
    "\n",
    "        birdnet_rows = combined_birdnet[combined_birdnet['Recording'] == recording]\n",
    "        num_detections = len(birdnet_rows[birdnet_rows['Common name'] == species])\n",
    "\n",
    "        if count == 0:\n",
    "            continue\n",
    "        detection_rate = num_detections/count\n",
    "\n",
    "        correlation_data.append([species, count, detection_rate])\n",
    "\n",
    "# Find correlation metrics\n",
    "correlation_df = pd.DataFrame(correlation_data, columns=['Species', 'Count', 'Detection rate'])\n",
    "corr_pearson, p_pearson = pearsonr(correlation_df['Count'], correlation_df['Detection rate'])\n",
    "corr_spearman, p_spearman = spearmanr(correlation_df['Count'], correlation_df['Detection rate'])\n",
    "\n",
    "print(f'Pearson: r={corr_pearson:.3f}, p={p_pearson:.3f}')\n",
    "print(f'Spearman: r={corr_spearman:.3f}, p={p_spearman:.3f}')"
   ]
  }
 ],
 "metadata": {
  "colab": {
   "provenance": []
  },
  "kernelspec": {
   "display_name": "Python 3 (ipykernel)",
   "language": "python",
   "name": "python3"
  },
  "language_info": {
   "codemirror_mode": {
    "name": "ipython",
    "version": 3
   },
   "file_extension": ".py",
   "mimetype": "text/x-python",
   "name": "python",
   "nbconvert_exporter": "python",
   "pygments_lexer": "ipython3",
   "version": "3.12.4"
  }
 },
 "nbformat": 4,
 "nbformat_minor": 4
}
